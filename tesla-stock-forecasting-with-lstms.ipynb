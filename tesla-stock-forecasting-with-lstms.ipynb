{
 "cells": [
  {
   "cell_type": "markdown",
   "metadata": {
    "id": "X6yTg2SlQMom"
   },
   "source": [
    "# 2- tesla-stock-forecasting-with-lstms\n",
    "\n",
    "Use the \"Run\" button to execute the code."
   ]
  },
  {
   "cell_type": "code",
   "execution_count": 1,
   "metadata": {
    "executionInfo": {
     "elapsed": 11,
     "status": "ok",
     "timestamp": 1679739136503,
     "user": {
      "displayName": "Sanjay Veeraragavulu",
      "userId": "09297159159747095837"
     },
     "user_tz": -330
    },
    "id": "DasOXJNkQMop"
   },
   "outputs": [],
   "source": [
    "# dataset @ https://finance.yahoo.com/quote/MSFT/history/\n",
    "\n",
    "# If you want the exact same dataset as the YouTube video,\n",
    "# use this link: https://drive.google.com/file/d/1WLm1AEYgU28Nk4lY4zNkGPSctdImbhJI/view?usp=sharing"
   ]
  },
  {
   "cell_type": "code",
   "execution_count": 3,
   "metadata": {
    "colab": {
     "base_uri": "https://localhost:8080/",
     "height": 424
    },
    "executionInfo": {
     "elapsed": 544,
     "status": "ok",
     "timestamp": 1679739170973,
     "user": {
      "displayName": "Sanjay Veeraragavulu",
      "userId": "09297159159747095837"
     },
     "user_tz": -330
    },
    "id": "3FKmxX6pQMoq",
    "outputId": "94270ac9-2121-4a38-de2f-6226db60a28a"
   },
   "outputs": [
    {
     "data": {
      "text/html": [
       "\n",
       "  <div id=\"df-0ca6930f-57c9-4dd3-b9f8-7f3fa7bc44c2\">\n",
       "    <div class=\"colab-df-container\">\n",
       "      <div>\n",
       "<style scoped>\n",
       "    .dataframe tbody tr th:only-of-type {\n",
       "        vertical-align: middle;\n",
       "    }\n",
       "\n",
       "    .dataframe tbody tr th {\n",
       "        vertical-align: top;\n",
       "    }\n",
       "\n",
       "    .dataframe thead th {\n",
       "        text-align: right;\n",
       "    }\n",
       "</style>\n",
       "<table border=\"1\" class=\"dataframe\">\n",
       "  <thead>\n",
       "    <tr style=\"text-align: right;\">\n",
       "      <th></th>\n",
       "      <th>Date</th>\n",
       "      <th>Open</th>\n",
       "      <th>High</th>\n",
       "      <th>Low</th>\n",
       "      <th>Close</th>\n",
       "      <th>Adj Close</th>\n",
       "      <th>Volume</th>\n",
       "    </tr>\n",
       "  </thead>\n",
       "  <tbody>\n",
       "    <tr>\n",
       "      <th>0</th>\n",
       "      <td>2010-06-29</td>\n",
       "      <td>1.266667</td>\n",
       "      <td>1.666667</td>\n",
       "      <td>1.169333</td>\n",
       "      <td>1.592667</td>\n",
       "      <td>1.592667</td>\n",
       "      <td>281494500</td>\n",
       "    </tr>\n",
       "    <tr>\n",
       "      <th>1</th>\n",
       "      <td>2010-06-30</td>\n",
       "      <td>1.719333</td>\n",
       "      <td>2.028000</td>\n",
       "      <td>1.553333</td>\n",
       "      <td>1.588667</td>\n",
       "      <td>1.588667</td>\n",
       "      <td>257806500</td>\n",
       "    </tr>\n",
       "    <tr>\n",
       "      <th>2</th>\n",
       "      <td>2010-07-01</td>\n",
       "      <td>1.666667</td>\n",
       "      <td>1.728000</td>\n",
       "      <td>1.351333</td>\n",
       "      <td>1.464000</td>\n",
       "      <td>1.464000</td>\n",
       "      <td>123282000</td>\n",
       "    </tr>\n",
       "    <tr>\n",
       "      <th>3</th>\n",
       "      <td>2010-07-02</td>\n",
       "      <td>1.533333</td>\n",
       "      <td>1.540000</td>\n",
       "      <td>1.247333</td>\n",
       "      <td>1.280000</td>\n",
       "      <td>1.280000</td>\n",
       "      <td>77097000</td>\n",
       "    </tr>\n",
       "    <tr>\n",
       "      <th>4</th>\n",
       "      <td>2010-07-06</td>\n",
       "      <td>1.333333</td>\n",
       "      <td>1.333333</td>\n",
       "      <td>1.055333</td>\n",
       "      <td>1.074000</td>\n",
       "      <td>1.074000</td>\n",
       "      <td>103003500</td>\n",
       "    </tr>\n",
       "    <tr>\n",
       "      <th>...</th>\n",
       "      <td>...</td>\n",
       "      <td>...</td>\n",
       "      <td>...</td>\n",
       "      <td>...</td>\n",
       "      <td>...</td>\n",
       "      <td>...</td>\n",
       "      <td>...</td>\n",
       "    </tr>\n",
       "    <tr>\n",
       "      <th>3202</th>\n",
       "      <td>2023-03-20</td>\n",
       "      <td>178.080002</td>\n",
       "      <td>186.440002</td>\n",
       "      <td>176.350006</td>\n",
       "      <td>183.250000</td>\n",
       "      <td>183.250000</td>\n",
       "      <td>129684400</td>\n",
       "    </tr>\n",
       "    <tr>\n",
       "      <th>3203</th>\n",
       "      <td>2023-03-21</td>\n",
       "      <td>188.279999</td>\n",
       "      <td>198.000000</td>\n",
       "      <td>188.039993</td>\n",
       "      <td>197.580002</td>\n",
       "      <td>197.580002</td>\n",
       "      <td>153391400</td>\n",
       "    </tr>\n",
       "    <tr>\n",
       "      <th>3204</th>\n",
       "      <td>2023-03-22</td>\n",
       "      <td>199.300003</td>\n",
       "      <td>200.660004</td>\n",
       "      <td>190.949997</td>\n",
       "      <td>191.149994</td>\n",
       "      <td>191.149994</td>\n",
       "      <td>150376400</td>\n",
       "    </tr>\n",
       "    <tr>\n",
       "      <th>3205</th>\n",
       "      <td>2023-03-23</td>\n",
       "      <td>195.259995</td>\n",
       "      <td>199.309998</td>\n",
       "      <td>188.649994</td>\n",
       "      <td>192.220001</td>\n",
       "      <td>192.220001</td>\n",
       "      <td>144193900</td>\n",
       "    </tr>\n",
       "    <tr>\n",
       "      <th>3206</th>\n",
       "      <td>2023-03-24</td>\n",
       "      <td>191.649994</td>\n",
       "      <td>192.360001</td>\n",
       "      <td>187.149994</td>\n",
       "      <td>190.410004</td>\n",
       "      <td>190.410004</td>\n",
       "      <td>116312400</td>\n",
       "    </tr>\n",
       "  </tbody>\n",
       "</table>\n",
       "<p>3207 rows Ã 7 columns</p>\n",
       "</div>\n",
       "      <button class=\"colab-df-convert\" onclick=\"convertToInteractive('df-0ca6930f-57c9-4dd3-b9f8-7f3fa7bc44c2')\"\n",
       "              title=\"Convert this dataframe to an interactive table.\"\n",
       "              style=\"display:none;\">\n",
       "        \n",
       "  <svg xmlns=\"http://www.w3.org/2000/svg\" height=\"24px\"viewBox=\"0 0 24 24\"\n",
       "       width=\"24px\">\n",
       "    <path d=\"M0 0h24v24H0V0z\" fill=\"none\"/>\n",
       "    <path d=\"M18.56 5.44l.94 2.06.94-2.06 2.06-.94-2.06-.94-.94-2.06-.94 2.06-2.06.94zm-11 1L8.5 8.5l.94-2.06 2.06-.94-2.06-.94L8.5 2.5l-.94 2.06-2.06.94zm10 10l.94 2.06.94-2.06 2.06-.94-2.06-.94-.94-2.06-.94 2.06-2.06.94z\"/><path d=\"M17.41 7.96l-1.37-1.37c-.4-.4-.92-.59-1.43-.59-.52 0-1.04.2-1.43.59L10.3 9.45l-7.72 7.72c-.78.78-.78 2.05 0 2.83L4 21.41c.39.39.9.59 1.41.59.51 0 1.02-.2 1.41-.59l7.78-7.78 2.81-2.81c.8-.78.8-2.07 0-2.86zM5.41 20L4 18.59l7.72-7.72 1.47 1.35L5.41 20z\"/>\n",
       "  </svg>\n",
       "      </button>\n",
       "      \n",
       "  <style>\n",
       "    .colab-df-container {\n",
       "      display:flex;\n",
       "      flex-wrap:wrap;\n",
       "      gap: 12px;\n",
       "    }\n",
       "\n",
       "    .colab-df-convert {\n",
       "      background-color: #E8F0FE;\n",
       "      border: none;\n",
       "      border-radius: 50%;\n",
       "      cursor: pointer;\n",
       "      display: none;\n",
       "      fill: #1967D2;\n",
       "      height: 32px;\n",
       "      padding: 0 0 0 0;\n",
       "      width: 32px;\n",
       "    }\n",
       "\n",
       "    .colab-df-convert:hover {\n",
       "      background-color: #E2EBFA;\n",
       "      box-shadow: 0px 1px 2px rgba(60, 64, 67, 0.3), 0px 1px 3px 1px rgba(60, 64, 67, 0.15);\n",
       "      fill: #174EA6;\n",
       "    }\n",
       "\n",
       "    [theme=dark] .colab-df-convert {\n",
       "      background-color: #3B4455;\n",
       "      fill: #D2E3FC;\n",
       "    }\n",
       "\n",
       "    [theme=dark] .colab-df-convert:hover {\n",
       "      background-color: #434B5C;\n",
       "      box-shadow: 0px 1px 3px 1px rgba(0, 0, 0, 0.15);\n",
       "      filter: drop-shadow(0px 1px 2px rgba(0, 0, 0, 0.3));\n",
       "      fill: #FFFFFF;\n",
       "    }\n",
       "  </style>\n",
       "\n",
       "      <script>\n",
       "        const buttonEl =\n",
       "          document.querySelector('#df-0ca6930f-57c9-4dd3-b9f8-7f3fa7bc44c2 button.colab-df-convert');\n",
       "        buttonEl.style.display =\n",
       "          google.colab.kernel.accessAllowed ? 'block' : 'none';\n",
       "\n",
       "        async function convertToInteractive(key) {\n",
       "          const element = document.querySelector('#df-0ca6930f-57c9-4dd3-b9f8-7f3fa7bc44c2');\n",
       "          const dataTable =\n",
       "            await google.colab.kernel.invokeFunction('convertToInteractive',\n",
       "                                                     [key], {});\n",
       "          if (!dataTable) return;\n",
       "\n",
       "          const docLinkHtml = 'Like what you see? Visit the ' +\n",
       "            '<a target=\"_blank\" href=https://colab.research.google.com/notebooks/data_table.ipynb>data table notebook</a>'\n",
       "            + ' to learn more about interactive tables.';\n",
       "          element.innerHTML = '';\n",
       "          dataTable['output_type'] = 'display_data';\n",
       "          await google.colab.output.renderOutput(dataTable, element);\n",
       "          const docLink = document.createElement('div');\n",
       "          docLink.innerHTML = docLinkHtml;\n",
       "          element.appendChild(docLink);\n",
       "        }\n",
       "      </script>\n",
       "    </div>\n",
       "  </div>\n",
       "  "
      ],
      "text/plain": [
       "            Date        Open        High         Low       Close   Adj Close  \\\n",
       "0     2010-06-29    1.266667    1.666667    1.169333    1.592667    1.592667   \n",
       "1     2010-06-30    1.719333    2.028000    1.553333    1.588667    1.588667   \n",
       "2     2010-07-01    1.666667    1.728000    1.351333    1.464000    1.464000   \n",
       "3     2010-07-02    1.533333    1.540000    1.247333    1.280000    1.280000   \n",
       "4     2010-07-06    1.333333    1.333333    1.055333    1.074000    1.074000   \n",
       "...          ...         ...         ...         ...         ...         ...   \n",
       "3202  2023-03-20  178.080002  186.440002  176.350006  183.250000  183.250000   \n",
       "3203  2023-03-21  188.279999  198.000000  188.039993  197.580002  197.580002   \n",
       "3204  2023-03-22  199.300003  200.660004  190.949997  191.149994  191.149994   \n",
       "3205  2023-03-23  195.259995  199.309998  188.649994  192.220001  192.220001   \n",
       "3206  2023-03-24  191.649994  192.360001  187.149994  190.410004  190.410004   \n",
       "\n",
       "         Volume  \n",
       "0     281494500  \n",
       "1     257806500  \n",
       "2     123282000  \n",
       "3      77097000  \n",
       "4     103003500  \n",
       "...         ...  \n",
       "3202  129684400  \n",
       "3203  153391400  \n",
       "3204  150376400  \n",
       "3205  144193900  \n",
       "3206  116312400  \n",
       "\n",
       "[3207 rows x 7 columns]"
      ]
     },
     "execution_count": 3,
     "metadata": {},
     "output_type": "execute_result"
    }
   ],
   "source": [
    "import pandas as pd\n",
    "\n",
    "df = pd.read_csv('TSLA (1).csv')\n",
    "\n",
    "df"
   ]
  },
  {
   "cell_type": "code",
   "execution_count": 4,
   "metadata": {
    "colab": {
     "base_uri": "https://localhost:8080/",
     "height": 424
    },
    "executionInfo": {
     "elapsed": 374,
     "status": "ok",
     "timestamp": 1679739176280,
     "user": {
      "displayName": "Sanjay Veeraragavulu",
      "userId": "09297159159747095837"
     },
     "user_tz": -330
    },
    "id": "N_oSv1GnQMor",
    "outputId": "33afbc48-5efe-4a0f-db36-9b2b31f19b1d"
   },
   "outputs": [
    {
     "data": {
      "text/html": [
       "\n",
       "  <div id=\"df-7ce2cc29-3a22-4f85-9c9d-d0a2610bf6e8\">\n",
       "    <div class=\"colab-df-container\">\n",
       "      <div>\n",
       "<style scoped>\n",
       "    .dataframe tbody tr th:only-of-type {\n",
       "        vertical-align: middle;\n",
       "    }\n",
       "\n",
       "    .dataframe tbody tr th {\n",
       "        vertical-align: top;\n",
       "    }\n",
       "\n",
       "    .dataframe thead th {\n",
       "        text-align: right;\n",
       "    }\n",
       "</style>\n",
       "<table border=\"1\" class=\"dataframe\">\n",
       "  <thead>\n",
       "    <tr style=\"text-align: right;\">\n",
       "      <th></th>\n",
       "      <th>Date</th>\n",
       "      <th>Close</th>\n",
       "    </tr>\n",
       "  </thead>\n",
       "  <tbody>\n",
       "    <tr>\n",
       "      <th>0</th>\n",
       "      <td>2010-06-29</td>\n",
       "      <td>1.592667</td>\n",
       "    </tr>\n",
       "    <tr>\n",
       "      <th>1</th>\n",
       "      <td>2010-06-30</td>\n",
       "      <td>1.588667</td>\n",
       "    </tr>\n",
       "    <tr>\n",
       "      <th>2</th>\n",
       "      <td>2010-07-01</td>\n",
       "      <td>1.464000</td>\n",
       "    </tr>\n",
       "    <tr>\n",
       "      <th>3</th>\n",
       "      <td>2010-07-02</td>\n",
       "      <td>1.280000</td>\n",
       "    </tr>\n",
       "    <tr>\n",
       "      <th>4</th>\n",
       "      <td>2010-07-06</td>\n",
       "      <td>1.074000</td>\n",
       "    </tr>\n",
       "    <tr>\n",
       "      <th>...</th>\n",
       "      <td>...</td>\n",
       "      <td>...</td>\n",
       "    </tr>\n",
       "    <tr>\n",
       "      <th>3202</th>\n",
       "      <td>2023-03-20</td>\n",
       "      <td>183.250000</td>\n",
       "    </tr>\n",
       "    <tr>\n",
       "      <th>3203</th>\n",
       "      <td>2023-03-21</td>\n",
       "      <td>197.580002</td>\n",
       "    </tr>\n",
       "    <tr>\n",
       "      <th>3204</th>\n",
       "      <td>2023-03-22</td>\n",
       "      <td>191.149994</td>\n",
       "    </tr>\n",
       "    <tr>\n",
       "      <th>3205</th>\n",
       "      <td>2023-03-23</td>\n",
       "      <td>192.220001</td>\n",
       "    </tr>\n",
       "    <tr>\n",
       "      <th>3206</th>\n",
       "      <td>2023-03-24</td>\n",
       "      <td>190.410004</td>\n",
       "    </tr>\n",
       "  </tbody>\n",
       "</table>\n",
       "<p>3207 rows Ã 2 columns</p>\n",
       "</div>\n",
       "      <button class=\"colab-df-convert\" onclick=\"convertToInteractive('df-7ce2cc29-3a22-4f85-9c9d-d0a2610bf6e8')\"\n",
       "              title=\"Convert this dataframe to an interactive table.\"\n",
       "              style=\"display:none;\">\n",
       "        \n",
       "  <svg xmlns=\"http://www.w3.org/2000/svg\" height=\"24px\"viewBox=\"0 0 24 24\"\n",
       "       width=\"24px\">\n",
       "    <path d=\"M0 0h24v24H0V0z\" fill=\"none\"/>\n",
       "    <path d=\"M18.56 5.44l.94 2.06.94-2.06 2.06-.94-2.06-.94-.94-2.06-.94 2.06-2.06.94zm-11 1L8.5 8.5l.94-2.06 2.06-.94-2.06-.94L8.5 2.5l-.94 2.06-2.06.94zm10 10l.94 2.06.94-2.06 2.06-.94-2.06-.94-.94-2.06-.94 2.06-2.06.94z\"/><path d=\"M17.41 7.96l-1.37-1.37c-.4-.4-.92-.59-1.43-.59-.52 0-1.04.2-1.43.59L10.3 9.45l-7.72 7.72c-.78.78-.78 2.05 0 2.83L4 21.41c.39.39.9.59 1.41.59.51 0 1.02-.2 1.41-.59l7.78-7.78 2.81-2.81c.8-.78.8-2.07 0-2.86zM5.41 20L4 18.59l7.72-7.72 1.47 1.35L5.41 20z\"/>\n",
       "  </svg>\n",
       "      </button>\n",
       "      \n",
       "  <style>\n",
       "    .colab-df-container {\n",
       "      display:flex;\n",
       "      flex-wrap:wrap;\n",
       "      gap: 12px;\n",
       "    }\n",
       "\n",
       "    .colab-df-convert {\n",
       "      background-color: #E8F0FE;\n",
       "      border: none;\n",
       "      border-radius: 50%;\n",
       "      cursor: pointer;\n",
       "      display: none;\n",
       "      fill: #1967D2;\n",
       "      height: 32px;\n",
       "      padding: 0 0 0 0;\n",
       "      width: 32px;\n",
       "    }\n",
       "\n",
       "    .colab-df-convert:hover {\n",
       "      background-color: #E2EBFA;\n",
       "      box-shadow: 0px 1px 2px rgba(60, 64, 67, 0.3), 0px 1px 3px 1px rgba(60, 64, 67, 0.15);\n",
       "      fill: #174EA6;\n",
       "    }\n",
       "\n",
       "    [theme=dark] .colab-df-convert {\n",
       "      background-color: #3B4455;\n",
       "      fill: #D2E3FC;\n",
       "    }\n",
       "\n",
       "    [theme=dark] .colab-df-convert:hover {\n",
       "      background-color: #434B5C;\n",
       "      box-shadow: 0px 1px 3px 1px rgba(0, 0, 0, 0.15);\n",
       "      filter: drop-shadow(0px 1px 2px rgba(0, 0, 0, 0.3));\n",
       "      fill: #FFFFFF;\n",
       "    }\n",
       "  </style>\n",
       "\n",
       "      <script>\n",
       "        const buttonEl =\n",
       "          document.querySelector('#df-7ce2cc29-3a22-4f85-9c9d-d0a2610bf6e8 button.colab-df-convert');\n",
       "        buttonEl.style.display =\n",
       "          google.colab.kernel.accessAllowed ? 'block' : 'none';\n",
       "\n",
       "        async function convertToInteractive(key) {\n",
       "          const element = document.querySelector('#df-7ce2cc29-3a22-4f85-9c9d-d0a2610bf6e8');\n",
       "          const dataTable =\n",
       "            await google.colab.kernel.invokeFunction('convertToInteractive',\n",
       "                                                     [key], {});\n",
       "          if (!dataTable) return;\n",
       "\n",
       "          const docLinkHtml = 'Like what you see? Visit the ' +\n",
       "            '<a target=\"_blank\" href=https://colab.research.google.com/notebooks/data_table.ipynb>data table notebook</a>'\n",
       "            + ' to learn more about interactive tables.';\n",
       "          element.innerHTML = '';\n",
       "          dataTable['output_type'] = 'display_data';\n",
       "          await google.colab.output.renderOutput(dataTable, element);\n",
       "          const docLink = document.createElement('div');\n",
       "          docLink.innerHTML = docLinkHtml;\n",
       "          element.appendChild(docLink);\n",
       "        }\n",
       "      </script>\n",
       "    </div>\n",
       "  </div>\n",
       "  "
      ],
      "text/plain": [
       "            Date       Close\n",
       "0     2010-06-29    1.592667\n",
       "1     2010-06-30    1.588667\n",
       "2     2010-07-01    1.464000\n",
       "3     2010-07-02    1.280000\n",
       "4     2010-07-06    1.074000\n",
       "...          ...         ...\n",
       "3202  2023-03-20  183.250000\n",
       "3203  2023-03-21  197.580002\n",
       "3204  2023-03-22  191.149994\n",
       "3205  2023-03-23  192.220001\n",
       "3206  2023-03-24  190.410004\n",
       "\n",
       "[3207 rows x 2 columns]"
      ]
     },
     "execution_count": 4,
     "metadata": {},
     "output_type": "execute_result"
    }
   ],
   "source": [
    "df = df[['Date', 'Close']]\n",
    "\n",
    "df"
   ]
  },
  {
   "cell_type": "code",
   "execution_count": 5,
   "metadata": {
    "colab": {
     "base_uri": "https://localhost:8080/"
    },
    "executionInfo": {
     "elapsed": 7,
     "status": "ok",
     "timestamp": 1679739177650,
     "user": {
      "displayName": "Sanjay Veeraragavulu",
      "userId": "09297159159747095837"
     },
     "user_tz": -330
    },
    "id": "Nw-9_Fb2QMos",
    "outputId": "50fa553a-0fbc-4fe6-887f-8ffb6387d6dd"
   },
   "outputs": [
    {
     "data": {
      "text/plain": [
       "0       2010-06-29\n",
       "1       2010-06-30\n",
       "2       2010-07-01\n",
       "3       2010-07-02\n",
       "4       2010-07-06\n",
       "           ...    \n",
       "3202    2023-03-20\n",
       "3203    2023-03-21\n",
       "3204    2023-03-22\n",
       "3205    2023-03-23\n",
       "3206    2023-03-24\n",
       "Name: Date, Length: 3207, dtype: object"
      ]
     },
     "execution_count": 5,
     "metadata": {},
     "output_type": "execute_result"
    }
   ],
   "source": [
    "df['Date']"
   ]
  },
  {
   "cell_type": "code",
   "execution_count": 6,
   "metadata": {
    "colab": {
     "base_uri": "https://localhost:8080/"
    },
    "executionInfo": {
     "elapsed": 5,
     "status": "ok",
     "timestamp": 1679739177650,
     "user": {
      "displayName": "Sanjay Veeraragavulu",
      "userId": "09297159159747095837"
     },
     "user_tz": -330
    },
    "id": "4y-j4GC2QMos",
    "outputId": "a95cb29f-aae3-46cf-fa69-eafdc7ba3ded"
   },
   "outputs": [
    {
     "data": {
      "text/plain": [
       "datetime.datetime(1986, 3, 19, 0, 0)"
      ]
     },
     "execution_count": 6,
     "metadata": {},
     "output_type": "execute_result"
    }
   ],
   "source": [
    "import datetime\n",
    "\n",
    "def str_to_datetime(s):\n",
    "  split = s.split('-')\n",
    "  year, month, day = int(split[0]), int(split[1]), int(split[2])\n",
    "  return datetime.datetime(year=year, month=month, day=day)\n",
    "\n",
    "datetime_object = str_to_datetime('1986-03-19')\n",
    "datetime_object"
   ]
  },
  {
   "cell_type": "code",
   "execution_count": 7,
   "metadata": {
    "colab": {
     "base_uri": "https://localhost:8080/",
     "height": 424
    },
    "executionInfo": {
     "elapsed": 4,
     "status": "ok",
     "timestamp": 1679739178933,
     "user": {
      "displayName": "Sanjay Veeraragavulu",
      "userId": "09297159159747095837"
     },
     "user_tz": -330
    },
    "id": "C-6bcovQQMos",
    "outputId": "716d1be9-feaf-419c-db2f-289d0ed71713"
   },
   "outputs": [
    {
     "data": {
      "text/html": [
       "\n",
       "  <div id=\"df-a78daac5-dee7-4836-b1f7-e0616fde675d\">\n",
       "    <div class=\"colab-df-container\">\n",
       "      <div>\n",
       "<style scoped>\n",
       "    .dataframe tbody tr th:only-of-type {\n",
       "        vertical-align: middle;\n",
       "    }\n",
       "\n",
       "    .dataframe tbody tr th {\n",
       "        vertical-align: top;\n",
       "    }\n",
       "\n",
       "    .dataframe thead th {\n",
       "        text-align: right;\n",
       "    }\n",
       "</style>\n",
       "<table border=\"1\" class=\"dataframe\">\n",
       "  <thead>\n",
       "    <tr style=\"text-align: right;\">\n",
       "      <th></th>\n",
       "      <th>Date</th>\n",
       "      <th>Close</th>\n",
       "    </tr>\n",
       "  </thead>\n",
       "  <tbody>\n",
       "    <tr>\n",
       "      <th>0</th>\n",
       "      <td>2010-06-29</td>\n",
       "      <td>1.592667</td>\n",
       "    </tr>\n",
       "    <tr>\n",
       "      <th>1</th>\n",
       "      <td>2010-06-30</td>\n",
       "      <td>1.588667</td>\n",
       "    </tr>\n",
       "    <tr>\n",
       "      <th>2</th>\n",
       "      <td>2010-07-01</td>\n",
       "      <td>1.464000</td>\n",
       "    </tr>\n",
       "    <tr>\n",
       "      <th>3</th>\n",
       "      <td>2010-07-02</td>\n",
       "      <td>1.280000</td>\n",
       "    </tr>\n",
       "    <tr>\n",
       "      <th>4</th>\n",
       "      <td>2010-07-06</td>\n",
       "      <td>1.074000</td>\n",
       "    </tr>\n",
       "    <tr>\n",
       "      <th>...</th>\n",
       "      <td>...</td>\n",
       "      <td>...</td>\n",
       "    </tr>\n",
       "    <tr>\n",
       "      <th>3202</th>\n",
       "      <td>2023-03-20</td>\n",
       "      <td>183.250000</td>\n",
       "    </tr>\n",
       "    <tr>\n",
       "      <th>3203</th>\n",
       "      <td>2023-03-21</td>\n",
       "      <td>197.580002</td>\n",
       "    </tr>\n",
       "    <tr>\n",
       "      <th>3204</th>\n",
       "      <td>2023-03-22</td>\n",
       "      <td>191.149994</td>\n",
       "    </tr>\n",
       "    <tr>\n",
       "      <th>3205</th>\n",
       "      <td>2023-03-23</td>\n",
       "      <td>192.220001</td>\n",
       "    </tr>\n",
       "    <tr>\n",
       "      <th>3206</th>\n",
       "      <td>2023-03-24</td>\n",
       "      <td>190.410004</td>\n",
       "    </tr>\n",
       "  </tbody>\n",
       "</table>\n",
       "<p>3207 rows Ã 2 columns</p>\n",
       "</div>\n",
       "      <button class=\"colab-df-convert\" onclick=\"convertToInteractive('df-a78daac5-dee7-4836-b1f7-e0616fde675d')\"\n",
       "              title=\"Convert this dataframe to an interactive table.\"\n",
       "              style=\"display:none;\">\n",
       "        \n",
       "  <svg xmlns=\"http://www.w3.org/2000/svg\" height=\"24px\"viewBox=\"0 0 24 24\"\n",
       "       width=\"24px\">\n",
       "    <path d=\"M0 0h24v24H0V0z\" fill=\"none\"/>\n",
       "    <path d=\"M18.56 5.44l.94 2.06.94-2.06 2.06-.94-2.06-.94-.94-2.06-.94 2.06-2.06.94zm-11 1L8.5 8.5l.94-2.06 2.06-.94-2.06-.94L8.5 2.5l-.94 2.06-2.06.94zm10 10l.94 2.06.94-2.06 2.06-.94-2.06-.94-.94-2.06-.94 2.06-2.06.94z\"/><path d=\"M17.41 7.96l-1.37-1.37c-.4-.4-.92-.59-1.43-.59-.52 0-1.04.2-1.43.59L10.3 9.45l-7.72 7.72c-.78.78-.78 2.05 0 2.83L4 21.41c.39.39.9.59 1.41.59.51 0 1.02-.2 1.41-.59l7.78-7.78 2.81-2.81c.8-.78.8-2.07 0-2.86zM5.41 20L4 18.59l7.72-7.72 1.47 1.35L5.41 20z\"/>\n",
       "  </svg>\n",
       "      </button>\n",
       "      \n",
       "  <style>\n",
       "    .colab-df-container {\n",
       "      display:flex;\n",
       "      flex-wrap:wrap;\n",
       "      gap: 12px;\n",
       "    }\n",
       "\n",
       "    .colab-df-convert {\n",
       "      background-color: #E8F0FE;\n",
       "      border: none;\n",
       "      border-radius: 50%;\n",
       "      cursor: pointer;\n",
       "      display: none;\n",
       "      fill: #1967D2;\n",
       "      height: 32px;\n",
       "      padding: 0 0 0 0;\n",
       "      width: 32px;\n",
       "    }\n",
       "\n",
       "    .colab-df-convert:hover {\n",
       "      background-color: #E2EBFA;\n",
       "      box-shadow: 0px 1px 2px rgba(60, 64, 67, 0.3), 0px 1px 3px 1px rgba(60, 64, 67, 0.15);\n",
       "      fill: #174EA6;\n",
       "    }\n",
       "\n",
       "    [theme=dark] .colab-df-convert {\n",
       "      background-color: #3B4455;\n",
       "      fill: #D2E3FC;\n",
       "    }\n",
       "\n",
       "    [theme=dark] .colab-df-convert:hover {\n",
       "      background-color: #434B5C;\n",
       "      box-shadow: 0px 1px 3px 1px rgba(0, 0, 0, 0.15);\n",
       "      filter: drop-shadow(0px 1px 2px rgba(0, 0, 0, 0.3));\n",
       "      fill: #FFFFFF;\n",
       "    }\n",
       "  </style>\n",
       "\n",
       "      <script>\n",
       "        const buttonEl =\n",
       "          document.querySelector('#df-a78daac5-dee7-4836-b1f7-e0616fde675d button.colab-df-convert');\n",
       "        buttonEl.style.display =\n",
       "          google.colab.kernel.accessAllowed ? 'block' : 'none';\n",
       "\n",
       "        async function convertToInteractive(key) {\n",
       "          const element = document.querySelector('#df-a78daac5-dee7-4836-b1f7-e0616fde675d');\n",
       "          const dataTable =\n",
       "            await google.colab.kernel.invokeFunction('convertToInteractive',\n",
       "                                                     [key], {});\n",
       "          if (!dataTable) return;\n",
       "\n",
       "          const docLinkHtml = 'Like what you see? Visit the ' +\n",
       "            '<a target=\"_blank\" href=https://colab.research.google.com/notebooks/data_table.ipynb>data table notebook</a>'\n",
       "            + ' to learn more about interactive tables.';\n",
       "          element.innerHTML = '';\n",
       "          dataTable['output_type'] = 'display_data';\n",
       "          await google.colab.output.renderOutput(dataTable, element);\n",
       "          const docLink = document.createElement('div');\n",
       "          docLink.innerHTML = docLinkHtml;\n",
       "          element.appendChild(docLink);\n",
       "        }\n",
       "      </script>\n",
       "    </div>\n",
       "  </div>\n",
       "  "
      ],
      "text/plain": [
       "            Date       Close\n",
       "0     2010-06-29    1.592667\n",
       "1     2010-06-30    1.588667\n",
       "2     2010-07-01    1.464000\n",
       "3     2010-07-02    1.280000\n",
       "4     2010-07-06    1.074000\n",
       "...          ...         ...\n",
       "3202  2023-03-20  183.250000\n",
       "3203  2023-03-21  197.580002\n",
       "3204  2023-03-22  191.149994\n",
       "3205  2023-03-23  192.220001\n",
       "3206  2023-03-24  190.410004\n",
       "\n",
       "[3207 rows x 2 columns]"
      ]
     },
     "execution_count": 7,
     "metadata": {},
     "output_type": "execute_result"
    }
   ],
   "source": [
    "df"
   ]
  },
  {
   "cell_type": "code",
   "execution_count": 8,
   "metadata": {
    "colab": {
     "base_uri": "https://localhost:8080/"
    },
    "executionInfo": {
     "elapsed": 2,
     "status": "ok",
     "timestamp": 1679739181108,
     "user": {
      "displayName": "Sanjay Veeraragavulu",
      "userId": "09297159159747095837"
     },
     "user_tz": -330
    },
    "id": "JtJSW9yGQMot",
    "outputId": "640f47b5-ea0e-476b-e7d0-2790c35a55d4"
   },
   "outputs": [
    {
     "name": "stderr",
     "output_type": "stream",
     "text": [
      "<ipython-input-8-f6fc52bb0fa5>:1: SettingWithCopyWarning: \n",
      "A value is trying to be set on a copy of a slice from a DataFrame.\n",
      "Try using .loc[row_indexer,col_indexer] = value instead\n",
      "\n",
      "See the caveats in the documentation: https://pandas.pydata.org/pandas-docs/stable/user_guide/indexing.html#returning-a-view-versus-a-copy\n",
      "  df['Date'] = df['Date'].apply(str_to_datetime)\n"
     ]
    },
    {
     "data": {
      "text/plain": [
       "0      2010-06-29\n",
       "1      2010-06-30\n",
       "2      2010-07-01\n",
       "3      2010-07-02\n",
       "4      2010-07-06\n",
       "          ...    \n",
       "3202   2023-03-20\n",
       "3203   2023-03-21\n",
       "3204   2023-03-22\n",
       "3205   2023-03-23\n",
       "3206   2023-03-24\n",
       "Name: Date, Length: 3207, dtype: datetime64[ns]"
      ]
     },
     "execution_count": 8,
     "metadata": {},
     "output_type": "execute_result"
    }
   ],
   "source": [
    "df['Date'] = df['Date'].apply(str_to_datetime)\n",
    "df['Date']"
   ]
  },
  {
   "cell_type": "code",
   "execution_count": 9,
   "metadata": {
    "colab": {
     "base_uri": "https://localhost:8080/",
     "height": 455
    },
    "executionInfo": {
     "elapsed": 5,
     "status": "ok",
     "timestamp": 1679739181631,
     "user": {
      "displayName": "Sanjay Veeraragavulu",
      "userId": "09297159159747095837"
     },
     "user_tz": -330
    },
    "id": "VYJ40f8mQMot",
    "outputId": "0a0036e5-cd70-4d92-94b3-43cce35df93a"
   },
   "outputs": [
    {
     "data": {
      "text/html": [
       "\n",
       "  <div id=\"df-50973039-8aef-4042-9b3b-386ea17977cc\">\n",
       "    <div class=\"colab-df-container\">\n",
       "      <div>\n",
       "<style scoped>\n",
       "    .dataframe tbody tr th:only-of-type {\n",
       "        vertical-align: middle;\n",
       "    }\n",
       "\n",
       "    .dataframe tbody tr th {\n",
       "        vertical-align: top;\n",
       "    }\n",
       "\n",
       "    .dataframe thead th {\n",
       "        text-align: right;\n",
       "    }\n",
       "</style>\n",
       "<table border=\"1\" class=\"dataframe\">\n",
       "  <thead>\n",
       "    <tr style=\"text-align: right;\">\n",
       "      <th></th>\n",
       "      <th>Close</th>\n",
       "    </tr>\n",
       "    <tr>\n",
       "      <th>Date</th>\n",
       "      <th></th>\n",
       "    </tr>\n",
       "  </thead>\n",
       "  <tbody>\n",
       "    <tr>\n",
       "      <th>2010-06-29</th>\n",
       "      <td>1.592667</td>\n",
       "    </tr>\n",
       "    <tr>\n",
       "      <th>2010-06-30</th>\n",
       "      <td>1.588667</td>\n",
       "    </tr>\n",
       "    <tr>\n",
       "      <th>2010-07-01</th>\n",
       "      <td>1.464000</td>\n",
       "    </tr>\n",
       "    <tr>\n",
       "      <th>2010-07-02</th>\n",
       "      <td>1.280000</td>\n",
       "    </tr>\n",
       "    <tr>\n",
       "      <th>2010-07-06</th>\n",
       "      <td>1.074000</td>\n",
       "    </tr>\n",
       "    <tr>\n",
       "      <th>...</th>\n",
       "      <td>...</td>\n",
       "    </tr>\n",
       "    <tr>\n",
       "      <th>2023-03-20</th>\n",
       "      <td>183.250000</td>\n",
       "    </tr>\n",
       "    <tr>\n",
       "      <th>2023-03-21</th>\n",
       "      <td>197.580002</td>\n",
       "    </tr>\n",
       "    <tr>\n",
       "      <th>2023-03-22</th>\n",
       "      <td>191.149994</td>\n",
       "    </tr>\n",
       "    <tr>\n",
       "      <th>2023-03-23</th>\n",
       "      <td>192.220001</td>\n",
       "    </tr>\n",
       "    <tr>\n",
       "      <th>2023-03-24</th>\n",
       "      <td>190.410004</td>\n",
       "    </tr>\n",
       "  </tbody>\n",
       "</table>\n",
       "<p>3207 rows Ã 1 columns</p>\n",
       "</div>\n",
       "      <button class=\"colab-df-convert\" onclick=\"convertToInteractive('df-50973039-8aef-4042-9b3b-386ea17977cc')\"\n",
       "              title=\"Convert this dataframe to an interactive table.\"\n",
       "              style=\"display:none;\">\n",
       "        \n",
       "  <svg xmlns=\"http://www.w3.org/2000/svg\" height=\"24px\"viewBox=\"0 0 24 24\"\n",
       "       width=\"24px\">\n",
       "    <path d=\"M0 0h24v24H0V0z\" fill=\"none\"/>\n",
       "    <path d=\"M18.56 5.44l.94 2.06.94-2.06 2.06-.94-2.06-.94-.94-2.06-.94 2.06-2.06.94zm-11 1L8.5 8.5l.94-2.06 2.06-.94-2.06-.94L8.5 2.5l-.94 2.06-2.06.94zm10 10l.94 2.06.94-2.06 2.06-.94-2.06-.94-.94-2.06-.94 2.06-2.06.94z\"/><path d=\"M17.41 7.96l-1.37-1.37c-.4-.4-.92-.59-1.43-.59-.52 0-1.04.2-1.43.59L10.3 9.45l-7.72 7.72c-.78.78-.78 2.05 0 2.83L4 21.41c.39.39.9.59 1.41.59.51 0 1.02-.2 1.41-.59l7.78-7.78 2.81-2.81c.8-.78.8-2.07 0-2.86zM5.41 20L4 18.59l7.72-7.72 1.47 1.35L5.41 20z\"/>\n",
       "  </svg>\n",
       "      </button>\n",
       "      \n",
       "  <style>\n",
       "    .colab-df-container {\n",
       "      display:flex;\n",
       "      flex-wrap:wrap;\n",
       "      gap: 12px;\n",
       "    }\n",
       "\n",
       "    .colab-df-convert {\n",
       "      background-color: #E8F0FE;\n",
       "      border: none;\n",
       "      border-radius: 50%;\n",
       "      cursor: pointer;\n",
       "      display: none;\n",
       "      fill: #1967D2;\n",
       "      height: 32px;\n",
       "      padding: 0 0 0 0;\n",
       "      width: 32px;\n",
       "    }\n",
       "\n",
       "    .colab-df-convert:hover {\n",
       "      background-color: #E2EBFA;\n",
       "      box-shadow: 0px 1px 2px rgba(60, 64, 67, 0.3), 0px 1px 3px 1px rgba(60, 64, 67, 0.15);\n",
       "      fill: #174EA6;\n",
       "    }\n",
       "\n",
       "    [theme=dark] .colab-df-convert {\n",
       "      background-color: #3B4455;\n",
       "      fill: #D2E3FC;\n",
       "    }\n",
       "\n",
       "    [theme=dark] .colab-df-convert:hover {\n",
       "      background-color: #434B5C;\n",
       "      box-shadow: 0px 1px 3px 1px rgba(0, 0, 0, 0.15);\n",
       "      filter: drop-shadow(0px 1px 2px rgba(0, 0, 0, 0.3));\n",
       "      fill: #FFFFFF;\n",
       "    }\n",
       "  </style>\n",
       "\n",
       "      <script>\n",
       "        const buttonEl =\n",
       "          document.querySelector('#df-50973039-8aef-4042-9b3b-386ea17977cc button.colab-df-convert');\n",
       "        buttonEl.style.display =\n",
       "          google.colab.kernel.accessAllowed ? 'block' : 'none';\n",
       "\n",
       "        async function convertToInteractive(key) {\n",
       "          const element = document.querySelector('#df-50973039-8aef-4042-9b3b-386ea17977cc');\n",
       "          const dataTable =\n",
       "            await google.colab.kernel.invokeFunction('convertToInteractive',\n",
       "                                                     [key], {});\n",
       "          if (!dataTable) return;\n",
       "\n",
       "          const docLinkHtml = 'Like what you see? Visit the ' +\n",
       "            '<a target=\"_blank\" href=https://colab.research.google.com/notebooks/data_table.ipynb>data table notebook</a>'\n",
       "            + ' to learn more about interactive tables.';\n",
       "          element.innerHTML = '';\n",
       "          dataTable['output_type'] = 'display_data';\n",
       "          await google.colab.output.renderOutput(dataTable, element);\n",
       "          const docLink = document.createElement('div');\n",
       "          docLink.innerHTML = docLinkHtml;\n",
       "          element.appendChild(docLink);\n",
       "        }\n",
       "      </script>\n",
       "    </div>\n",
       "  </div>\n",
       "  "
      ],
      "text/plain": [
       "                 Close\n",
       "Date                  \n",
       "2010-06-29    1.592667\n",
       "2010-06-30    1.588667\n",
       "2010-07-01    1.464000\n",
       "2010-07-02    1.280000\n",
       "2010-07-06    1.074000\n",
       "...                ...\n",
       "2023-03-20  183.250000\n",
       "2023-03-21  197.580002\n",
       "2023-03-22  191.149994\n",
       "2023-03-23  192.220001\n",
       "2023-03-24  190.410004\n",
       "\n",
       "[3207 rows x 1 columns]"
      ]
     },
     "execution_count": 9,
     "metadata": {},
     "output_type": "execute_result"
    }
   ],
   "source": [
    "df.index = df.pop('Date')\n",
    "df"
   ]
  },
  {
   "cell_type": "code",
   "execution_count": 10,
   "metadata": {
    "colab": {
     "base_uri": "https://localhost:8080/",
     "height": 282
    },
    "executionInfo": {
     "elapsed": 622,
     "status": "ok",
     "timestamp": 1679739183222,
     "user": {
      "displayName": "Sanjay Veeraragavulu",
      "userId": "09297159159747095837"
     },
     "user_tz": -330
    },
    "id": "4VBjPsegQMou",
    "outputId": "e07d8a95-d32a-49b4-e915-d581bdc4cf77"
   },
   "outputs": [
    {
     "data": {
      "text/plain": [
       "[<matplotlib.lines.Line2D at 0x7f97e05c0f70>]"
      ]
     },
     "execution_count": 10,
     "metadata": {},
     "output_type": "execute_result"
    },
    {
     "data": {
      "image/png": "[encoded data removed]",
      "text/plain": [
       "<Figure size 432x288 with 1 Axes>"
      ]
     },
     "metadata": {
      "needs_background": "light"
     },
     "output_type": "display_data"
    }
   ],
   "source": [
    "import matplotlib.pyplot as plt\n",
    "\n",
    "plt.plot(df.index, df['Close'])"
   ]
  },
  {
   "cell_type": "code",
   "execution_count": 11,
   "metadata": {
    "colab": {
     "base_uri": "https://localhost:8080/",
     "height": 424
    },
    "executionInfo": {
     "elapsed": 833,
     "status": "ok",
     "timestamp": 1679739185150,
     "user": {
      "displayName": "Sanjay Veeraragavulu",
      "userId": "09297159159747095837"
     },
     "user_tz": -330
    },
    "id": "G1s06iqdQMou",
    "outputId": "9c986919-7deb-4c12-e8f3-7fca3bef5451"
   },
   "outputs": [
    {
     "data": {
      "text/html": [
       "\n",
       "  <div id=\"df-457e2787-f007-403e-ab0b-97a814fd1abc\">\n",
       "    <div class=\"colab-df-container\">\n",
       "      <div>\n",
       "<style scoped>\n",
       "    .dataframe tbody tr th:only-of-type {\n",
       "        vertical-align: middle;\n",
       "    }\n",
       "\n",
       "    .dataframe tbody tr th {\n",
       "        vertical-align: top;\n",
       "    }\n",
       "\n",
       "    .dataframe thead th {\n",
       "        text-align: right;\n",
       "    }\n",
       "</style>\n",
       "<table border=\"1\" class=\"dataframe\">\n",
       "  <thead>\n",
       "    <tr style=\"text-align: right;\">\n",
       "      <th></th>\n",
       "      <th>Target Date</th>\n",
       "      <th>Target-3</th>\n",
       "      <th>Target-2</th>\n",
       "      <th>Target-1</th>\n",
       "      <th>Target</th>\n",
       "    </tr>\n",
       "  </thead>\n",
       "  <tbody>\n",
       "    <tr>\n",
       "      <th>0</th>\n",
       "      <td>2021-03-25</td>\n",
       "      <td>223.333328</td>\n",
       "      <td>220.720001</td>\n",
       "      <td>210.089996</td>\n",
       "      <td>213.463333</td>\n",
       "    </tr>\n",
       "    <tr>\n",
       "      <th>1</th>\n",
       "      <td>2021-03-26</td>\n",
       "      <td>220.720001</td>\n",
       "      <td>210.089996</td>\n",
       "      <td>213.463333</td>\n",
       "      <td>206.236664</td>\n",
       "    </tr>\n",
       "    <tr>\n",
       "      <th>2</th>\n",
       "      <td>2021-03-29</td>\n",
       "      <td>210.089996</td>\n",
       "      <td>213.463333</td>\n",
       "      <td>206.236664</td>\n",
       "      <td>203.763336</td>\n",
       "    </tr>\n",
       "    <tr>\n",
       "      <th>3</th>\n",
       "      <td>2021-03-30</td>\n",
       "      <td>213.463333</td>\n",
       "      <td>206.236664</td>\n",
       "      <td>203.763336</td>\n",
       "      <td>211.873337</td>\n",
       "    </tr>\n",
       "    <tr>\n",
       "      <th>4</th>\n",
       "      <td>2021-03-31</td>\n",
       "      <td>206.236664</td>\n",
       "      <td>203.763336</td>\n",
       "      <td>211.873337</td>\n",
       "      <td>222.643326</td>\n",
       "    </tr>\n",
       "    <tr>\n",
       "      <th>...</th>\n",
       "      <td>...</td>\n",
       "      <td>...</td>\n",
       "      <td>...</td>\n",
       "      <td>...</td>\n",
       "      <td>...</td>\n",
       "    </tr>\n",
       "    <tr>\n",
       "      <th>247</th>\n",
       "      <td>2022-03-17</td>\n",
       "      <td>255.456665</td>\n",
       "      <td>267.296661</td>\n",
       "      <td>280.076660</td>\n",
       "      <td>290.533325</td>\n",
       "    </tr>\n",
       "    <tr>\n",
       "      <th>248</th>\n",
       "      <td>2022-03-18</td>\n",
       "      <td>267.296661</td>\n",
       "      <td>280.076660</td>\n",
       "      <td>290.533325</td>\n",
       "      <td>301.796661</td>\n",
       "    </tr>\n",
       "    <tr>\n",
       "      <th>249</th>\n",
       "      <td>2022-03-21</td>\n",
       "      <td>280.076660</td>\n",
       "      <td>290.533325</td>\n",
       "      <td>301.796661</td>\n",
       "      <td>307.053345</td>\n",
       "    </tr>\n",
       "    <tr>\n",
       "      <th>250</th>\n",
       "      <td>2022-03-22</td>\n",
       "      <td>290.533325</td>\n",
       "      <td>301.796661</td>\n",
       "      <td>307.053345</td>\n",
       "      <td>331.326660</td>\n",
       "    </tr>\n",
       "    <tr>\n",
       "      <th>251</th>\n",
       "      <td>2022-03-23</td>\n",
       "      <td>301.796661</td>\n",
       "      <td>307.053345</td>\n",
       "      <td>331.326660</td>\n",
       "      <td>333.036682</td>\n",
       "    </tr>\n",
       "  </tbody>\n",
       "</table>\n",
       "<p>252 rows Ã 5 columns</p>\n",
       "</div>\n",
       "      <button class=\"colab-df-convert\" onclick=\"convertToInteractive('df-457e2787-f007-403e-ab0b-97a814fd1abc')\"\n",
       "              title=\"Convert this dataframe to an interactive table.\"\n",
       "              style=\"display:none;\">\n",
       "        \n",
       "  <svg xmlns=\"http://www.w3.org/2000/svg\" height=\"24px\"viewBox=\"0 0 24 24\"\n",
       "       width=\"24px\">\n",
       "    <path d=\"M0 0h24v24H0V0z\" fill=\"none\"/>\n",
       "    <path d=\"M18.56 5.44l.94 2.06.94-2.06 2.06-.94-2.06-.94-.94-2.06-.94 2.06-2.06.94zm-11 1L8.5 8.5l.94-2.06 2.06-.94-2.06-.94L8.5 2.5l-.94 2.06-2.06.94zm10 10l.94 2.06.94-2.06 2.06-.94-2.06-.94-.94-2.06-.94 2.06-2.06.94z\"/><path d=\"M17.41 7.96l-1.37-1.37c-.4-.4-.92-.59-1.43-.59-.52 0-1.04.2-1.43.59L10.3 9.45l-7.72 7.72c-.78.78-.78 2.05 0 2.83L4 21.41c.39.39.9.59 1.41.59.51 0 1.02-.2 1.41-.59l7.78-7.78 2.81-2.81c.8-.78.8-2.07 0-2.86zM5.41 20L4 18.59l7.72-7.72 1.47 1.35L5.41 20z\"/>\n",
       "  </svg>\n",
       "      </button>\n",
       "      \n",
       "  <style>\n",
       "    .colab-df-container {\n",
       "      display:flex;\n",
       "      flex-wrap:wrap;\n",
       "      gap: 12px;\n",
       "    }\n",
       "\n",
       "    .colab-df-convert {\n",
       "      background-color: #E8F0FE;\n",
       "      border: none;\n",
       "      border-radius: 50%;\n",
       "      cursor: pointer;\n",
       "      display: none;\n",
       "      fill: #1967D2;\n",
       "      height: 32px;\n",
       "      padding: 0 0 0 0;\n",
       "      width: 32px;\n",
       "    }\n",
       "\n",
       "    .colab-df-convert:hover {\n",
       "      background-color: #E2EBFA;\n",
       "      box-shadow: 0px 1px 2px rgba(60, 64, 67, 0.3), 0px 1px 3px 1px rgba(60, 64, 67, 0.15);\n",
       "      fill: #174EA6;\n",
       "    }\n",
       "\n",
       "    [theme=dark] .colab-df-convert {\n",
       "      background-color: #3B4455;\n",
       "      fill: #D2E3FC;\n",
       "    }\n",
       "\n",
       "    [theme=dark] .colab-df-convert:hover {\n",
       "      background-color: #434B5C;\n",
       "      box-shadow: 0px 1px 3px 1px rgba(0, 0, 0, 0.15);\n",
       "      filter: drop-shadow(0px 1px 2px rgba(0, 0, 0, 0.3));\n",
       "      fill: #FFFFFF;\n",
       "    }\n",
       "  </style>\n",
       "\n",
       "      <script>\n",
       "        const buttonEl =\n",
       "          document.querySelector('#df-457e2787-f007-403e-ab0b-97a814fd1abc button.colab-df-convert');\n",
       "        buttonEl.style.display =\n",
       "          google.colab.kernel.accessAllowed ? 'block' : 'none';\n",
       "\n",
       "        async function convertToInteractive(key) {\n",
       "          const element = document.querySelector('#df-457e2787-f007-403e-ab0b-97a814fd1abc');\n",
       "          const dataTable =\n",
       "            await google.colab.kernel.invokeFunction('convertToInteractive',\n",
       "                                                     [key], {});\n",
       "          if (!dataTable) return;\n",
       "\n",
       "          const docLinkHtml = 'Like what you see? Visit the ' +\n",
       "            '<a target=\"_blank\" href=https://colab.research.google.com/notebooks/data_table.ipynb>data table notebook</a>'\n",
       "            + ' to learn more about interactive tables.';\n",
       "          element.innerHTML = '';\n",
       "          dataTable['output_type'] = 'display_data';\n",
       "          await google.colab.output.renderOutput(dataTable, element);\n",
       "          const docLink = document.createElement('div');\n",
       "          docLink.innerHTML = docLinkHtml;\n",
       "          element.appendChild(docLink);\n",
       "        }\n",
       "      </script>\n",
       "    </div>\n",
       "  </div>\n",
       "  "
      ],
      "text/plain": [
       "    Target Date    Target-3    Target-2    Target-1      Target\n",
       "0    2021-03-25  223.333328  220.720001  210.089996  213.463333\n",
       "1    2021-03-26  220.720001  210.089996  213.463333  206.236664\n",
       "2    2021-03-29  210.089996  213.463333  206.236664  203.763336\n",
       "3    2021-03-30  213.463333  206.236664  203.763336  211.873337\n",
       "4    2021-03-31  206.236664  203.763336  211.873337  222.643326\n",
       "..          ...         ...         ...         ...         ...\n",
       "247  2022-03-17  255.456665  267.296661  280.076660  290.533325\n",
       "248  2022-03-18  267.296661  280.076660  290.533325  301.796661\n",
       "249  2022-03-21  280.076660  290.533325  301.796661  307.053345\n",
       "250  2022-03-22  290.533325  301.796661  307.053345  331.326660\n",
       "251  2022-03-23  301.796661  307.053345  331.326660  333.036682\n",
       "\n",
       "[252 rows x 5 columns]"
      ]
     },
     "execution_count": 11,
     "metadata": {},
     "output_type": "execute_result"
    }
   ],
   "source": [
    "import numpy as np\n",
    "\n",
    "def df_to_windowed_df(dataframe, first_date_str, last_date_str, n=3):\n",
    "  first_date = str_to_datetime(first_date_str)\n",
    "  last_date  = str_to_datetime(last_date_str)\n",
    "\n",
    "  target_date = first_date\n",
    "  \n",
    "  dates = []\n",
    "  X, Y = [], []\n",
    "\n",
    "  last_time = False\n",
    "  while True:\n",
    "    df_subset = dataframe.loc[:target_date].tail(n+1)\n",
    "    \n",
    "    if len(df_subset) != n+1:\n",
    "      print(f'Error: Window of size {n} is too large for date {target_date}')\n",
    "      return\n",
    "\n",
    "    values = df_subset['Close'].to_numpy()\n",
    "    x, y = values[:-1], values[-1]\n",
    "\n",
    "    dates.append(target_date)\n",
    "    X.append(x)\n",
    "    Y.append(y)\n",
    "\n",
    "    next_week = dataframe.loc[target_date:target_date+datetime.timedelta(days=7)]\n",
    "    next_datetime_str = str(next_week.head(2).tail(1).index.values[0])\n",
    "    next_date_str = next_datetime_str.split('T')[0]\n",
    "    year_month_day = next_date_str.split('-')\n",
    "    year, month, day = year_month_day\n",
    "    next_date = datetime.datetime(day=int(day), month=int(month), year=int(year))\n",
    "    \n",
    "    if last_time:\n",
    "      break\n",
    "    \n",
    "    target_date = next_date\n",
    "\n",
    "    if target_date == last_date:\n",
    "      last_time = True\n",
    "    \n",
    "  ret_df = pd.DataFrame({})\n",
    "  ret_df['Target Date'] = dates\n",
    "  \n",
    "  X = np.array(X)\n",
    "  for i in range(0, n):\n",
    "    X[:, i]\n",
    "    ret_df[f'Target-{n-i}'] = X[:, i]\n",
    "  \n",
    "  ret_df['Target'] = Y\n",
    "\n",
    "  return ret_df\n",
    "\n",
    "# Start day second time around: '2021-03-25'\n",
    "windowed_df = df_to_windowed_df(df, \n",
    "                                '2021-03-25', \n",
    "                                '2022-03-23', \n",
    "                                n=3)\n",
    "windowed_df"
   ]
  },
  {
   "cell_type": "code",
   "execution_count": 12,
   "metadata": {
    "colab": {
     "base_uri": "https://localhost:8080/"
    },
    "executionInfo": {
     "elapsed": 2,
     "status": "ok",
     "timestamp": 1679739185516,
     "user": {
      "displayName": "Sanjay Veeraragavulu",
      "userId": "09297159159747095837"
     },
     "user_tz": -330
    },
    "id": "mUTs0rkUQMov",
    "outputId": "35c9e027-6d49-4e66-a80f-6e9e1470a3a6"
   },
   "outputs": [
    {
     "data": {
      "text/plain": [
       "((252,), (252, 3, 1), (252,))"
      ]
     },
     "execution_count": 12,
     "metadata": {},
     "output_type": "execute_result"
    }
   ],
   "source": [
    "def windowed_df_to_date_X_y(windowed_dataframe):\n",
    "  df_as_np = windowed_dataframe.to_numpy()\n",
    "\n",
    "  dates = df_as_np[:, 0]\n",
    "\n",
    "  middle_matrix = df_as_np[:, 1:-1]\n",
    "  X = middle_matrix.reshape((len(dates), middle_matrix.shape[1], 1))\n",
    "\n",
    "  Y = df_as_np[:, -1]\n",
    "\n",
    "  return dates, X.astype(np.float32), Y.astype(np.float32)\n",
    "\n",
    "dates, X, y = windowed_df_to_date_X_y(windowed_df)\n",
    "\n",
    "dates.shape, X.shape, y.shape"
   ]
  },
  {
   "cell_type": "code",
   "execution_count": 13,
   "metadata": {
    "colab": {
     "base_uri": "https://localhost:8080/",
     "height": 282
    },
    "executionInfo": {
     "elapsed": 939,
     "status": "ok",
     "timestamp": 1679739187346,
     "user": {
      "displayName": "Sanjay Veeraragavulu",
      "userId": "09297159159747095837"
     },
     "user_tz": -330
    },
    "id": "iZcqpGj-QMov",
    "outputId": "4eb37efc-4d08-4200-e91d-6a72aef373eb"
   },
   "outputs": [
    {
     "data": {
      "text/plain": [
       "<matplotlib.legend.Legend at 0x7f97e04c9400>"
      ]
     },
     "execution_count": 13,
     "metadata": {},
     "output_type": "execute_result"
    },
    {
     "data": {
      "image/png": "[encoded data removed]",
      "text/plain": [
       "<Figure size 432x288 with 1 Axes>"
      ]
     },
     "metadata": {
      "needs_background": "light"
     },
     "output_type": "display_data"
    }
   ],
   "source": [
    "q_80 = int(len(dates) * .8)\n",
    "q_90 = int(len(dates) * .9)\n",
    "\n",
    "dates_train, X_train, y_train = dates[:q_80], X[:q_80], y[:q_80]\n",
    "\n",
    "dates_val, X_val, y_val = dates[q_80:q_90], X[q_80:q_90], y[q_80:q_90]\n",
    "dates_test, X_test, y_test = dates[q_90:], X[q_90:], y[q_90:]\n",
    "\n",
    "plt.plot(dates_train, y_train)\n",
    "plt.plot(dates_val, y_val)\n",
    "plt.plot(dates_test, y_test)\n",
    "\n",
    "plt.legend(['Train', 'Validation', 'Test'])"
   ]
  },
  {
   "cell_type": "code",
   "execution_count": 14,
   "metadata": {
    "colab": {
     "base_uri": "https://localhost:8080/"
    },
    "executionInfo": {
     "elapsed": 23034,
     "status": "ok",
     "timestamp": 1679739213129,
     "user": {
      "displayName": "Sanjay Veeraragavulu",
      "userId": "09297159159747095837"
     },
     "user_tz": -330
    },
    "id": "DzdV4R7QQMov",
    "outputId": "c664dcbc-6c85-4485-f73c-41c2f564ad5c"
   },
   "outputs": [
    {
     "name": "stdout",
     "output_type": "stream",
     "text": [
      "Looking in indexes: https://pypi.org/simple, https://us-python.pkg.dev/colab-wheels/public/simple/\n",
      "Requirement already satisfied: tensorflow in /usr/local/lib/python3.9/dist-packages (2.11.0)\n",
      "Requirement already satisfied: six>=1.12.0 in /usr/local/lib/python3.9/dist-packages (from tensorflow) (1.16.0)\n",
      "Requirement already satisfied: absl-py>=1.0.0 in /usr/local/lib/python3.9/dist-packages (from tensorflow) (1.4.0)\n",
      "Requirement already satisfied: flatbuffers>=2.0 in /usr/local/lib/python3.9/dist-packages (from tensorflow) (23.3.3)\n",
      "Requirement already satisfied: tensorflow-io-gcs-filesystem>=0.23.1 in /usr/local/lib/python3.9/dist-packages (from tensorflow) (0.31.0)\n",
      "Requirement already satisfied: typing-extensions>=3.6.6 in /usr/local/lib/python3.9/dist-packages (from tensorflow) (4.5.0)\n",
      "Requirement already satisfied: keras<2.12,>=2.11.0 in /usr/local/lib/python3.9/dist-packages (from tensorflow) (2.11.0)\n",
      "Requirement already satisfied: tensorboard<2.12,>=2.11 in /usr/local/lib/python3.9/dist-packages (from tensorflow) (2.11.2)\n",
      "Requirement already satisfied: grpcio<2.0,>=1.24.3 in /usr/local/lib/python3.9/dist-packages (from tensorflow) (1.51.3)\n",
      "Requirement already satisfied: opt-einsum>=2.3.2 in /usr/local/lib/python3.9/dist-packages (from tensorflow) (3.3.0)\n",
      "Requirement already satisfied: packaging in /usr/local/lib/python3.9/dist-packages (from tensorflow) (23.0)\n",
      "Requirement already satisfied: astunparse>=1.6.0 in /usr/local/lib/python3.9/dist-packages (from tensorflow) (1.6.3)\n",
      "Requirement already satisfied: google-pasta>=0.1.1 in /usr/local/lib/python3.9/dist-packages (from tensorflow) (0.2.0)\n",
      "Requirement already satisfied: termcolor>=1.1.0 in /usr/local/lib/python3.9/dist-packages (from tensorflow) (2.2.0)\n",
      "Requirement already satisfied: gast<=0.4.0,>=0.2.1 in /usr/local/lib/python3.9/dist-packages (from tensorflow) (0.4.0)\n",
      "Requirement already satisfied: numpy>=1.20 in /usr/local/lib/python3.9/dist-packages (from tensorflow) (1.22.4)\n",
      "Requirement already satisfied: tensorflow-estimator<2.12,>=2.11.0 in /usr/local/lib/python3.9/dist-packages (from tensorflow) (2.11.0)\n",
      "Requirement already satisfied: libclang>=13.0.0 in /usr/local/lib/python3.9/dist-packages (from tensorflow) (15.0.6.1)\n",
      "Requirement already satisfied: setuptools in /usr/local/lib/python3.9/dist-packages (from tensorflow) (67.6.0)\n",
      "Requirement already satisfied: h5py>=2.9.0 in /usr/local/lib/python3.9/dist-packages (from tensorflow) (3.8.0)\n",
      "Requirement already satisfied: protobuf<3.20,>=3.9.2 in /usr/local/lib/python3.9/dist-packages (from tensorflow) (3.19.6)\n",
      "Requirement already satisfied: wrapt>=1.11.0 in /usr/local/lib/python3.9/dist-packages (from tensorflow) (1.15.0)\n",
      "Requirement already satisfied: wheel<1.0,>=0.23.0 in /usr/local/lib/python3.9/dist-packages (from astunparse>=1.6.0->tensorflow) (0.40.0)\n",
      "Requirement already satisfied: requests<3,>=2.21.0 in /usr/local/lib/python3.9/dist-packages (from tensorboard<2.12,>=2.11->tensorflow) (2.27.1)\n",
      "Requirement already satisfied: google-auth-oauthlib<0.5,>=0.4.1 in /usr/local/lib/python3.9/dist-packages (from tensorboard<2.12,>=2.11->tensorflow) (0.4.6)\n",
      "Requirement already satisfied: werkzeug>=1.0.1 in /usr/local/lib/python3.9/dist-packages (from tensorboard<2.12,>=2.11->tensorflow) (2.2.3)\n",
      "Requirement already satisfied: google-auth<3,>=1.6.3 in /usr/local/lib/python3.9/dist-packages (from tensorboard<2.12,>=2.11->tensorflow) (2.16.2)\n",
      "Requirement already satisfied: tensorboard-plugin-wit>=1.6.0 in /usr/local/lib/python3.9/dist-packages (from tensorboard<2.12,>=2.11->tensorflow) (1.8.1)\n",
      "Requirement already satisfied: markdown>=2.6.8 in /usr/local/lib/python3.9/dist-packages (from tensorboard<2.12,>=2.11->tensorflow) (3.4.2)\n",
      "Requirement already satisfied: tensorboard-data-server<0.7.0,>=0.6.0 in /usr/local/lib/python3.9/dist-packages (from tensorboard<2.12,>=2.11->tensorflow) (0.6.1)\n",
      "Requirement already satisfied: rsa<5,>=3.1.4 in /usr/local/lib/python3.9/dist-packages (from google-auth<3,>=1.6.3->tensorboard<2.12,>=2.11->tensorflow) (4.9)\n",
      "Requirement already satisfied: pyasn1-modules>=0.2.1 in /usr/local/lib/python3.9/dist-packages (from google-auth<3,>=1.6.3->tensorboard<2.12,>=2.11->tensorflow) (0.2.8)\n",
      "Requirement already satisfied: cachetools<6.0,>=2.0.0 in /usr/local/lib/python3.9/dist-packages (from google-auth<3,>=1.6.3->tensorboard<2.12,>=2.11->tensorflow) (5.3.0)\n",
      "Requirement already satisfied: requests-oauthlib>=0.7.0 in /usr/local/lib/python3.9/dist-packages (from google-auth-oauthlib<0.5,>=0.4.1->tensorboard<2.12,>=2.11->tensorflow) (1.3.1)\n",
      "Requirement already satisfied: importlib-metadata>=4.4 in /usr/local/lib/python3.9/dist-packages (from markdown>=2.6.8->tensorboard<2.12,>=2.11->tensorflow) (6.1.0)\n",
      "Requirement already satisfied: idna<4,>=2.5 in /usr/local/lib/python3.9/dist-packages (from requests<3,>=2.21.0->tensorboard<2.12,>=2.11->tensorflow) (3.4)\n",
      "Requirement already satisfied: charset-normalizer~=2.0.0 in /usr/local/lib/python3.9/dist-packages (from requests<3,>=2.21.0->tensorboard<2.12,>=2.11->tensorflow) (2.0.12)\n",
      "Requirement already satisfied: certifi>=2017.4.17 in /usr/local/lib/python3.9/dist-packages (from requests<3,>=2.21.0->tensorboard<2.12,>=2.11->tensorflow) (2022.12.7)\n",
      "Requirement already satisfied: urllib3<1.27,>=1.21.1 in /usr/local/lib/python3.9/dist-packages (from requests<3,>=2.21.0->tensorboard<2.12,>=2.11->tensorflow) (1.26.15)\n",
      "Requirement already satisfied: MarkupSafe>=2.1.1 in /usr/local/lib/python3.9/dist-packages (from werkzeug>=1.0.1->tensorboard<2.12,>=2.11->tensorflow) (2.1.2)\n",
      "Requirement already satisfied: zipp>=0.5 in /usr/local/lib/python3.9/dist-packages (from importlib-metadata>=4.4->markdown>=2.6.8->tensorboard<2.12,>=2.11->tensorflow) (3.15.0)\n",
      "Requirement already satisfied: pyasn1<0.5.0,>=0.4.6 in /usr/local/lib/python3.9/dist-packages (from pyasn1-modules>=0.2.1->google-auth<3,>=1.6.3->tensorboard<2.12,>=2.11->tensorflow) (0.4.8)\n",
      "Requirement already satisfied: oauthlib>=3.0.0 in /usr/local/lib/python3.9/dist-packages (from requests-oauthlib>=0.7.0->google-auth-oauthlib<0.5,>=0.4.1->tensorboard<2.12,>=2.11->tensorflow) (3.2.2)\n",
      "Epoch 1/100\n",
      "7/7 [==============================] - 5s 112ms/step - loss: 73092.7031 - mean_absolute_error: 263.5068 - val_loss: 99869.4297 - val_mean_absolute_error: 315.1141\n",
      "Epoch 2/100\n",
      "7/7 [==============================] - 0s 10ms/step - loss: 72555.4844 - mean_absolute_error: 262.4832 - val_loss: 99094.8594 - val_mean_absolute_error: 313.8831\n",
      "Epoch 3/100\n",
      "7/7 [==============================] - 0s 10ms/step - loss: 71881.6406 - mean_absolute_error: 261.1984 - val_loss: 98243.3906 - val_mean_absolute_error: 312.5240\n",
      "Epoch 4/100\n",
      "7/7 [==============================] - 0s 10ms/step - loss: 71125.1641 - mean_absolute_error: 259.7590 - val_loss: 97244.2891 - val_mean_absolute_error: 310.9220\n",
      "Epoch 5/100\n",
      "7/7 [==============================] - 0s 10ms/step - loss: 70266.7578 - mean_absolute_error: 258.0866 - val_loss: 96089.3125 - val_mean_absolute_error: 309.0577\n",
      "Epoch 6/100\n",
      "7/7 [==============================] - 0s 11ms/step - loss: 69127.9453 - mean_absolute_error: 255.8819 - val_loss: 94457.0391 - val_mean_absolute_error: 306.4060\n",
      "Epoch 7/100\n",
      "7/7 [==============================] - 0s 10ms/step - loss: 67700.9219 - mean_absolute_error: 253.0597 - val_loss: 92536.7812 - val_mean_absolute_error: 303.2546\n",
      "Epoch 8/100\n",
      "7/7 [==============================] - 0s 14ms/step - loss: 65890.4453 - mean_absolute_error: 249.4447 - val_loss: 89981.7500 - val_mean_absolute_error: 299.0135\n",
      "Epoch 9/100\n",
      "7/7 [==============================] - 0s 10ms/step - loss: 63667.6211 - mean_absolute_error: 244.9513 - val_loss: 86995.8828 - val_mean_absolute_error: 293.9769\n",
      "Epoch 10/100\n",
      "7/7 [==============================] - 0s 14ms/step - loss: 60871.4062 - mean_absolute_error: 239.1660 - val_loss: 82900.0469 - val_mean_absolute_error: 286.9256\n",
      "Epoch 11/100\n",
      "7/7 [==============================] - 0s 17ms/step - loss: 57257.8555 - mean_absolute_error: 231.4358 - val_loss: 78074.4297 - val_mean_absolute_error: 278.3901\n",
      "Epoch 12/100\n",
      "7/7 [==============================] - 0s 20ms/step - loss: 53198.7930 - mean_absolute_error: 222.4673 - val_loss: 72511.1172 - val_mean_absolute_error: 268.2043\n",
      "Epoch 13/100\n",
      "7/7 [==============================] - 0s 21ms/step - loss: 48143.7969 - mean_absolute_error: 210.7933 - val_loss: 65563.2031 - val_mean_absolute_error: 254.9340\n",
      "Epoch 14/100\n",
      "7/7 [==============================] - 0s 21ms/step - loss: 42876.9961 - mean_absolute_error: 197.9372 - val_loss: 59170.4492 - val_mean_absolute_error: 242.0649\n",
      "Epoch 15/100\n",
      "7/7 [==============================] - 0s 18ms/step - loss: 37396.0039 - mean_absolute_error: 183.6380 - val_loss: 51660.2344 - val_mean_absolute_error: 226.0250\n",
      "Epoch 16/100\n",
      "7/7 [==============================] - 0s 22ms/step - loss: 31682.4609 - mean_absolute_error: 167.3655 - val_loss: 44147.9961 - val_mean_absolute_error: 208.7422\n",
      "Epoch 17/100\n",
      "7/7 [==============================] - 0s 18ms/step - loss: 26060.4160 - mean_absolute_error: 149.6420 - val_loss: 36971.1562 - val_mean_absolute_error: 190.7818\n",
      "Epoch 18/100\n",
      "7/7 [==============================] - 0s 22ms/step - loss: 20744.4180 - mean_absolute_error: 130.5379 - val_loss: 29359.6094 - val_mean_absolute_error: 169.6278\n",
      "Epoch 19/100\n",
      "7/7 [==============================] - 0s 18ms/step - loss: 15399.2012 - mean_absolute_error: 108.2280 - val_loss: 22403.6230 - val_mean_absolute_error: 147.7468\n",
      "Epoch 20/100\n",
      "7/7 [==============================] - 0s 14ms/step - loss: 11330.5322 - mean_absolute_error: 87.6316 - val_loss: 16835.3926 - val_mean_absolute_error: 127.5146\n",
      "Epoch 21/100\n",
      "7/7 [==============================] - 0s 10ms/step - loss: 8162.0332 - mean_absolute_error: 67.5378 - val_loss: 12047.5254 - val_mean_absolute_error: 107.1244\n",
      "Epoch 22/100\n",
      "7/7 [==============================] - 0s 10ms/step - loss: 6003.1318 - mean_absolute_error: 53.4664 - val_loss: 8662.3652 - val_mean_absolute_error: 89.9434\n",
      "Epoch 23/100\n",
      "7/7 [==============================] - 0s 10ms/step - loss: 4728.0386 - mean_absolute_error: 46.7682 - val_loss: 6158.7388 - val_mean_absolute_error: 74.7433\n",
      "Epoch 24/100\n",
      "7/7 [==============================] - 0s 10ms/step - loss: 4001.7207 - mean_absolute_error: 46.1779 - val_loss: 4704.3208 - val_mean_absolute_error: 64.2846\n",
      "Epoch 25/100\n",
      "7/7 [==============================] - 0s 10ms/step - loss: 3733.0957 - mean_absolute_error: 47.7824 - val_loss: 3862.8706 - val_mean_absolute_error: 57.3678\n",
      "Epoch 26/100\n",
      "7/7 [==============================] - 0s 11ms/step - loss: 3654.5356 - mean_absolute_error: 49.5495 - val_loss: 3343.4395 - val_mean_absolute_error: 52.6463\n",
      "Epoch 27/100\n",
      "7/7 [==============================] - 0s 9ms/step - loss: 3657.0396 - mean_absolute_error: 51.0267 - val_loss: 3067.4971 - val_mean_absolute_error: 49.9569\n",
      "Epoch 28/100\n",
      "7/7 [==============================] - 0s 11ms/step - loss: 3658.7002 - mean_absolute_error: 51.6400 - val_loss: 3037.3403 - val_mean_absolute_error: 49.6542\n",
      "Epoch 29/100\n",
      "7/7 [==============================] - 0s 12ms/step - loss: 3655.7136 - mean_absolute_error: 51.5028 - val_loss: 3148.6091 - val_mean_absolute_error: 50.7623\n",
      "Epoch 30/100\n",
      "7/7 [==============================] - 0s 10ms/step - loss: 3652.5315 - mean_absolute_error: 51.1420 - val_loss: 3203.5874 - val_mean_absolute_error: 51.3010\n",
      "Epoch 31/100\n",
      "7/7 [==============================] - 0s 11ms/step - loss: 3651.5784 - mean_absolute_error: 50.9856 - val_loss: 3230.9900 - val_mean_absolute_error: 51.5675\n",
      "Epoch 32/100\n",
      "7/7 [==============================] - 0s 10ms/step - loss: 3651.0623 - mean_absolute_error: 50.8294 - val_loss: 3273.9346 - val_mean_absolute_error: 51.9844\n",
      "Epoch 33/100\n",
      "7/7 [==============================] - 0s 10ms/step - loss: 3605.1897 - mean_absolute_error: 50.3026 - val_loss: 3475.4055 - val_mean_absolute_error: 54.0222\n",
      "Epoch 34/100\n",
      "7/7 [==============================] - 0s 10ms/step - loss: 3559.0564 - mean_absolute_error: 48.4551 - val_loss: 3507.6296 - val_mean_absolute_error: 54.3763\n",
      "Epoch 35/100\n",
      "7/7 [==============================] - 0s 11ms/step - loss: 3483.0930 - mean_absolute_error: 48.5552 - val_loss: 3335.0500 - val_mean_absolute_error: 52.7791\n",
      "Epoch 36/100\n",
      "7/7 [==============================] - 0s 10ms/step - loss: 3401.5989 - mean_absolute_error: 47.7581 - val_loss: 3439.2727 - val_mean_absolute_error: 53.9133\n",
      "Epoch 37/100\n",
      "7/7 [==============================] - 0s 10ms/step - loss: 3282.6194 - mean_absolute_error: 45.5066 - val_loss: 3432.2163 - val_mean_absolute_error: 54.0318\n",
      "Epoch 38/100\n",
      "7/7 [==============================] - 0s 10ms/step - loss: 2916.1543 - mean_absolute_error: 40.2725 - val_loss: 3679.4915 - val_mean_absolute_error: 56.8993\n",
      "Epoch 39/100\n",
      "7/7 [==============================] - 0s 12ms/step - loss: 2537.8674 - mean_absolute_error: 36.2065 - val_loss: 2993.1782 - val_mean_absolute_error: 50.5877\n",
      "Epoch 40/100\n",
      "7/7 [==============================] - 0s 10ms/step - loss: 2180.3071 - mean_absolute_error: 32.0911 - val_loss: 2546.7659 - val_mean_absolute_error: 46.4432\n",
      "Epoch 41/100\n",
      "7/7 [==============================] - 0s 10ms/step - loss: 1897.1108 - mean_absolute_error: 30.4259 - val_loss: 1953.7958 - val_mean_absolute_error: 39.5767\n",
      "Epoch 42/100\n",
      "7/7 [==============================] - 0s 10ms/step - loss: 1617.7925 - mean_absolute_error: 27.0975 - val_loss: 1402.6689 - val_mean_absolute_error: 32.4004\n",
      "Epoch 43/100\n",
      "7/7 [==============================] - 0s 10ms/step - loss: 1353.4987 - mean_absolute_error: 24.5511 - val_loss: 1144.5557 - val_mean_absolute_error: 28.8341\n",
      "Epoch 44/100\n",
      "7/7 [==============================] - 0s 10ms/step - loss: 1139.9203 - mean_absolute_error: 22.1586 - val_loss: 853.1243 - val_mean_absolute_error: 23.8474\n",
      "Epoch 45/100\n",
      "7/7 [==============================] - 0s 10ms/step - loss: 956.0300 - mean_absolute_error: 20.4664 - val_loss: 692.9471 - val_mean_absolute_error: 21.3239\n",
      "Epoch 46/100\n",
      "7/7 [==============================] - 0s 12ms/step - loss: 775.8649 - mean_absolute_error: 17.6338 - val_loss: 501.6076 - val_mean_absolute_error: 16.7990\n",
      "Epoch 47/100\n",
      "7/7 [==============================] - 0s 10ms/step - loss: 626.0543 - mean_absolute_error: 15.3458 - val_loss: 369.5677 - val_mean_absolute_error: 14.3828\n",
      "Epoch 48/100\n",
      "7/7 [==============================] - 0s 10ms/step - loss: 510.1182 - mean_absolute_error: 14.1986 - val_loss: 312.0079 - val_mean_absolute_error: 13.6388\n",
      "Epoch 49/100\n",
      "7/7 [==============================] - 0s 13ms/step - loss: 411.5578 - mean_absolute_error: 12.4798 - val_loss: 293.6453 - val_mean_absolute_error: 13.7514\n",
      "Epoch 50/100\n",
      "7/7 [==============================] - 0s 10ms/step - loss: 347.0920 - mean_absolute_error: 11.9064 - val_loss: 305.0307 - val_mean_absolute_error: 14.5081\n",
      "Epoch 51/100\n",
      "7/7 [==============================] - 0s 11ms/step - loss: 292.2279 - mean_absolute_error: 10.6097 - val_loss: 320.4586 - val_mean_absolute_error: 15.0273\n",
      "Epoch 52/100\n",
      "7/7 [==============================] - 0s 14ms/step - loss: 243.3532 - mean_absolute_error: 9.6722 - val_loss: 372.1834 - val_mean_absolute_error: 16.4028\n",
      "Epoch 53/100\n",
      "7/7 [==============================] - 0s 10ms/step - loss: 221.8610 - mean_absolute_error: 10.0393 - val_loss: 304.2406 - val_mean_absolute_error: 14.4216\n",
      "Epoch 54/100\n",
      "7/7 [==============================] - 0s 10ms/step - loss: 198.8834 - mean_absolute_error: 9.5681 - val_loss: 253.5404 - val_mean_absolute_error: 12.5812\n",
      "Epoch 55/100\n",
      "7/7 [==============================] - 0s 14ms/step - loss: 168.8188 - mean_absolute_error: 8.4663 - val_loss: 391.1333 - val_mean_absolute_error: 16.8458\n",
      "Epoch 56/100\n",
      "7/7 [==============================] - 0s 11ms/step - loss: 161.3594 - mean_absolute_error: 8.8474 - val_loss: 298.6161 - val_mean_absolute_error: 14.1287\n",
      "Epoch 57/100\n",
      "7/7 [==============================] - 0s 11ms/step - loss: 140.4059 - mean_absolute_error: 7.8763 - val_loss: 212.3709 - val_mean_absolute_error: 11.0991\n",
      "Epoch 58/100\n",
      "7/7 [==============================] - 0s 10ms/step - loss: 138.3458 - mean_absolute_error: 7.7282 - val_loss: 323.0844 - val_mean_absolute_error: 14.7697\n",
      "Epoch 59/100\n",
      "7/7 [==============================] - 0s 10ms/step - loss: 127.5003 - mean_absolute_error: 7.2581 - val_loss: 374.2313 - val_mean_absolute_error: 16.1947\n",
      "Epoch 60/100\n",
      "7/7 [==============================] - 0s 10ms/step - loss: 125.0331 - mean_absolute_error: 7.3752 - val_loss: 429.9500 - val_mean_absolute_error: 17.5991\n",
      "Epoch 61/100\n",
      "7/7 [==============================] - 0s 10ms/step - loss: 124.1239 - mean_absolute_error: 7.4779 - val_loss: 453.8265 - val_mean_absolute_error: 18.2858\n",
      "Epoch 62/100\n",
      "7/7 [==============================] - 0s 11ms/step - loss: 130.0007 - mean_absolute_error: 7.7629 - val_loss: 338.8237 - val_mean_absolute_error: 15.1970\n",
      "Epoch 63/100\n",
      "7/7 [==============================] - 0s 10ms/step - loss: 118.2330 - mean_absolute_error: 7.2763 - val_loss: 392.5916 - val_mean_absolute_error: 16.7145\n",
      "Epoch 64/100\n",
      "7/7 [==============================] - 0s 13ms/step - loss: 119.0520 - mean_absolute_error: 7.2687 - val_loss: 548.3465 - val_mean_absolute_error: 20.5777\n",
      "Epoch 65/100\n",
      "7/7 [==============================] - 0s 15ms/step - loss: 130.1758 - mean_absolute_error: 8.2249 - val_loss: 277.6372 - val_mean_absolute_error: 12.9547\n",
      "Epoch 66/100\n",
      "7/7 [==============================] - 0s 10ms/step - loss: 129.7117 - mean_absolute_error: 8.1080 - val_loss: 177.8764 - val_mean_absolute_error: 10.0454\n",
      "Epoch 67/100\n",
      "7/7 [==============================] - 0s 11ms/step - loss: 128.8591 - mean_absolute_error: 8.2376 - val_loss: 256.6259 - val_mean_absolute_error: 12.3965\n",
      "Epoch 68/100\n",
      "7/7 [==============================] - 0s 10ms/step - loss: 113.3440 - mean_absolute_error: 6.9956 - val_loss: 561.2407 - val_mean_absolute_error: 20.8754\n",
      "Epoch 69/100\n",
      "7/7 [==============================] - 0s 11ms/step - loss: 113.4180 - mean_absolute_error: 7.0833 - val_loss: 492.7788 - val_mean_absolute_error: 19.3614\n",
      "Epoch 70/100\n",
      "7/7 [==============================] - 0s 10ms/step - loss: 111.9173 - mean_absolute_error: 7.3016 - val_loss: 292.6796 - val_mean_absolute_error: 13.7669\n",
      "Epoch 71/100\n",
      "7/7 [==============================] - 0s 10ms/step - loss: 109.5634 - mean_absolute_error: 7.1959 - val_loss: 255.3721 - val_mean_absolute_error: 12.4139\n",
      "Epoch 72/100\n",
      "7/7 [==============================] - 0s 11ms/step - loss: 107.6461 - mean_absolute_error: 6.9367 - val_loss: 341.1307 - val_mean_absolute_error: 15.1103\n",
      "Epoch 73/100\n",
      "7/7 [==============================] - 0s 10ms/step - loss: 107.6386 - mean_absolute_error: 6.8691 - val_loss: 334.7288 - val_mean_absolute_error: 14.9893\n",
      "Epoch 74/100\n",
      "7/7 [==============================] - 0s 10ms/step - loss: 100.9880 - mean_absolute_error: 6.5906 - val_loss: 275.3816 - val_mean_absolute_error: 13.0982\n",
      "Epoch 75/100\n",
      "7/7 [==============================] - 0s 11ms/step - loss: 110.5723 - mean_absolute_error: 6.8719 - val_loss: 376.6268 - val_mean_absolute_error: 16.3626\n",
      "Epoch 76/100\n",
      "7/7 [==============================] - 0s 10ms/step - loss: 109.0855 - mean_absolute_error: 7.2460 - val_loss: 439.6727 - val_mean_absolute_error: 18.0859\n",
      "Epoch 77/100\n",
      "7/7 [==============================] - 0s 11ms/step - loss: 100.5245 - mean_absolute_error: 6.6107 - val_loss: 202.0837 - val_mean_absolute_error: 10.5577\n",
      "Epoch 78/100\n",
      "7/7 [==============================] - 0s 10ms/step - loss: 106.3145 - mean_absolute_error: 6.8657 - val_loss: 215.1304 - val_mean_absolute_error: 10.8578\n",
      "Epoch 79/100\n",
      "7/7 [==============================] - 0s 11ms/step - loss: 109.7721 - mean_absolute_error: 7.3664 - val_loss: 342.5685 - val_mean_absolute_error: 15.3044\n",
      "Epoch 80/100\n",
      "7/7 [==============================] - 0s 12ms/step - loss: 108.9099 - mean_absolute_error: 7.3327 - val_loss: 412.8005 - val_mean_absolute_error: 17.3489\n",
      "Epoch 81/100\n",
      "7/7 [==============================] - 0s 10ms/step - loss: 106.1065 - mean_absolute_error: 6.9027 - val_loss: 341.7423 - val_mean_absolute_error: 15.2894\n",
      "Epoch 82/100\n",
      "7/7 [==============================] - 0s 10ms/step - loss: 103.8818 - mean_absolute_error: 6.8693 - val_loss: 305.1319 - val_mean_absolute_error: 14.0146\n",
      "Epoch 83/100\n",
      "7/7 [==============================] - 0s 10ms/step - loss: 113.0748 - mean_absolute_error: 7.3050 - val_loss: 278.5050 - val_mean_absolute_error: 13.0523\n",
      "Epoch 84/100\n",
      "7/7 [==============================] - 0s 10ms/step - loss: 99.2167 - mean_absolute_error: 6.9656 - val_loss: 165.9615 - val_mean_absolute_error: 9.6111\n",
      "Epoch 85/100\n",
      "7/7 [==============================] - 0s 10ms/step - loss: 116.6298 - mean_absolute_error: 7.7172 - val_loss: 555.8687 - val_mean_absolute_error: 20.8884\n",
      "Epoch 86/100\n",
      "7/7 [==============================] - 0s 11ms/step - loss: 134.5765 - mean_absolute_error: 8.6359 - val_loss: 495.2415 - val_mean_absolute_error: 19.4400\n",
      "Epoch 87/100\n",
      "7/7 [==============================] - 0s 10ms/step - loss: 118.7298 - mean_absolute_error: 7.1567 - val_loss: 282.1975 - val_mean_absolute_error: 13.4323\n",
      "Epoch 88/100\n",
      "7/7 [==============================] - 0s 9ms/step - loss: 100.9868 - mean_absolute_error: 6.9348 - val_loss: 408.2075 - val_mean_absolute_error: 17.1242\n",
      "Epoch 89/100\n",
      "7/7 [==============================] - 0s 10ms/step - loss: 101.5877 - mean_absolute_error: 6.8121 - val_loss: 348.6396 - val_mean_absolute_error: 15.4149\n",
      "Epoch 90/100\n",
      "7/7 [==============================] - 0s 11ms/step - loss: 108.7856 - mean_absolute_error: 6.9430 - val_loss: 293.2118 - val_mean_absolute_error: 13.8016\n",
      "Epoch 91/100\n",
      "7/7 [==============================] - 0s 10ms/step - loss: 100.7728 - mean_absolute_error: 6.7752 - val_loss: 309.5584 - val_mean_absolute_error: 14.0225\n",
      "Epoch 92/100\n",
      "7/7 [==============================] - 0s 11ms/step - loss: 105.9703 - mean_absolute_error: 7.2442 - val_loss: 394.0692 - val_mean_absolute_error: 16.8862\n",
      "Epoch 93/100\n",
      "7/7 [==============================] - 0s 10ms/step - loss: 110.7190 - mean_absolute_error: 7.3299 - val_loss: 366.8858 - val_mean_absolute_error: 16.0805\n",
      "Epoch 94/100\n",
      "7/7 [==============================] - 0s 13ms/step - loss: 105.9301 - mean_absolute_error: 7.2256 - val_loss: 415.3706 - val_mean_absolute_error: 17.4864\n",
      "Epoch 95/100\n",
      "7/7 [==============================] - 0s 10ms/step - loss: 110.3625 - mean_absolute_error: 7.6048 - val_loss: 235.6792 - val_mean_absolute_error: 11.5660\n",
      "Epoch 96/100\n",
      "7/7 [==============================] - 0s 11ms/step - loss: 104.8278 - mean_absolute_error: 7.1451 - val_loss: 198.0665 - val_mean_absolute_error: 10.3243\n",
      "Epoch 97/100\n",
      "7/7 [==============================] - 0s 14ms/step - loss: 102.1517 - mean_absolute_error: 6.8036 - val_loss: 346.1542 - val_mean_absolute_error: 15.1645\n",
      "Epoch 98/100\n",
      "7/7 [==============================] - 0s 10ms/step - loss: 100.0156 - mean_absolute_error: 7.1093 - val_loss: 279.5274 - val_mean_absolute_error: 13.3500\n",
      "Epoch 99/100\n",
      "7/7 [==============================] - 0s 10ms/step - loss: 106.0295 - mean_absolute_error: 6.8911 - val_loss: 416.5060 - val_mean_absolute_error: 17.5145\n",
      "Epoch 100/100\n",
      "7/7 [==============================] - 0s 10ms/step - loss: 116.5941 - mean_absolute_error: 8.1991 - val_loss: 390.6067 - val_mean_absolute_error: 16.5958\n"
     ]
    },
    {
     "data": {
      "text/plain": [
       "<keras.callbacks.History at 0x7f977cf030a0>"
      ]
     },
     "execution_count": 14,
     "metadata": {},
     "output_type": "execute_result"
    }
   ],
   "source": [
    "!pip3 install tensorflow\n",
    "import tensorflow\n",
    "\n",
    "from tensorflow.keras.models import Sequential\n",
    "from tensorflow.keras.optimizers import Adam\n",
    "from tensorflow.keras import layers\n",
    "\n",
    "model = Sequential([layers.Input((3, 1)),\n",
    "                    layers.LSTM(64),\n",
    "                    layers.Dense(32, activation='relu'),\n",
    "                    layers.Dense(32, activation='relu'),\n",
    "                    layers.Dense(1)])\n",
    "\n",
    "model.compile(loss='mse', \n",
    "              optimizer=Adam(learning_rate=0.001),\n",
    "              metrics=['mean_absolute_error'])\n",
    "\n",
    "model.fit(X_train, y_train, validation_data=(X_val, y_val), epochs=100)"
   ]
  },
  {
   "cell_type": "code",
   "execution_count": 15,
   "metadata": {
    "colab": {
     "base_uri": "https://localhost:8080/",
     "height": 300
    },
    "executionInfo": {
     "elapsed": 2152,
     "status": "ok",
     "timestamp": 1679739243101,
     "user": {
      "displayName": "Sanjay Veeraragavulu",
      "userId": "09297159159747095837"
     },
     "user_tz": -330
    },
    "id": "gvFmj9kiQMow",
    "outputId": "923b2f38-4502-4bc3-f788-80b97dedc03c"
   },
   "outputs": [
    {
     "name": "stdout",
     "output_type": "stream",
     "text": [
      "7/7 [==============================] - 1s 3ms/step\n"
     ]
    },
    {
     "data": {
      "text/plain": [
       "<matplotlib.legend.Legend at 0x7f97e0401610>"
      ]
     },
     "execution_count": 15,
     "metadata": {},
     "output_type": "execute_result"
    },
    {
     "data": {
      "image/png": "[encoded data removed]",
      "text/plain": [
       "<Figure size 432x288 with 1 Axes>"
      ]
     },
     "metadata": {
      "needs_background": "light"
     },
     "output_type": "display_data"
    }
   ],
   "source": [
    "train_predictions = model.predict(X_train).flatten()\n",
    "\n",
    "plt.plot(dates_train, train_predictions)\n",
    "plt.plot(dates_train, y_train)\n",
    "plt.legend(['Training Predictions', 'Training Observations'])"
   ]
  },
  {
   "cell_type": "code",
   "execution_count": 16,
   "metadata": {
    "colab": {
     "base_uri": "https://localhost:8080/",
     "height": 300
    },
    "executionInfo": {
     "elapsed": 1146,
     "status": "ok",
     "timestamp": 1679739257503,
     "user": {
      "displayName": "Sanjay Veeraragavulu",
      "userId": "09297159159747095837"
     },
     "user_tz": -330
    },
    "id": "8cK0wUv5QMow",
    "outputId": "52191f1d-33bd-466f-bd0b-d07ab3c4099f"
   },
   "outputs": [
    {
     "name": "stdout",
     "output_type": "stream",
     "text": [
      "1/1 [==============================] - 0s 66ms/step\n"
     ]
    },
    {
     "data": {
      "text/plain": [
       "<matplotlib.legend.Legend at 0x7f977d7a3f40>"
      ]
     },
     "execution_count": 16,
     "metadata": {},
     "output_type": "execute_result"
    },
    {
     "data": {
      "image/png": "[encoded data removed]",
      "text/plain": [
       "<Figure size 432x288 with 1 Axes>"
      ]
     },
     "metadata": {
      "needs_background": "light"
     },
     "output_type": "display_data"
    }
   ],
   "source": [
    "val_predictions = model.predict(X_val).flatten()\n",
    "\n",
    "plt.plot(dates_val, val_predictions)\n",
    "plt.plot(dates_val, y_val)\n",
    "plt.legend(['Validation Predictions', 'Validation Observations'])"
   ]
  },
  {
   "cell_type": "code",
   "execution_count": 17,
   "metadata": {
    "colab": {
     "base_uri": "https://localhost:8080/",
     "height": 300
    },
    "executionInfo": {
     "elapsed": 507,
     "status": "ok",
     "timestamp": 1679739275778,
     "user": {
      "displayName": "Sanjay Veeraragavulu",
      "userId": "09297159159747095837"
     },
     "user_tz": -330
    },
    "id": "9dWjdabgQMow",
    "outputId": "c82b7450-3f97-437a-ac1f-be8f3f98c8aa"
   },
   "outputs": [
    {
     "name": "stdout",
     "output_type": "stream",
     "text": [
      "1/1 [==============================] - 0s 22ms/step\n"
     ]
    },
    {
     "data": {
      "text/plain": [
       "<matplotlib.legend.Legend at 0x7f977d6ba0d0>"
      ]
     },
     "execution_count": 17,
     "metadata": {},
     "output_type": "execute_result"
    },
    {
     "data": {
      "image/png": "[encoded data removed]",
      "text/plain": [
       "<Figure size 432x288 with 1 Axes>"
      ]
     },
     "metadata": {
      "needs_background": "light"
     },
     "output_type": "display_data"
    }
   ],
   "source": [
    "test_predictions = model.predict(X_test).flatten()\n",
    "\n",
    "plt.plot(dates_test, test_predictions)\n",
    "plt.plot(dates_test, y_test)\n",
    "plt.legend(['Testing Predictions', 'Testing Observations'])"
   ]
  },
  {
   "cell_type": "code",
   "execution_count": 18,
   "metadata": {
    "colab": {
     "base_uri": "https://localhost:8080/",
     "height": 282
    },
    "executionInfo": {
     "elapsed": 847,
     "status": "ok",
     "timestamp": 1679739291349,
     "user": {
      "displayName": "Sanjay Veeraragavulu",
      "userId": "09297159159747095837"
     },
     "user_tz": -330
    },
    "id": "XdhxgLYyQMow",
    "outputId": "fa87363e-e4f3-42c1-99a4-3693b923efc2"
   },
   "outputs": [
    {
     "data": {
      "text/plain": [
       "<matplotlib.legend.Legend at 0x7f977d71f130>"
      ]
     },
     "execution_count": 18,
     "metadata": {},
     "output_type": "execute_result"
    },
    {
     "data": {
      "image/png": "[encoded data removed]",
      "text/plain": [
       "<Figure size 432x288 with 1 Axes>"
      ]
     },
     "metadata": {
      "needs_background": "light"
     },
     "output_type": "display_data"
    }
   ],
   "source": [
    "plt.plot(dates_train, train_predictions)\n",
    "plt.plot(dates_train, y_train)\n",
    "plt.plot(dates_val, val_predictions)\n",
    "plt.plot(dates_val, y_val)\n",
    "plt.plot(dates_test, test_predictions)\n",
    "plt.plot(dates_test, y_test)\n",
    "plt.legend(['Training Predictions', \n",
    "            'Training Observations',\n",
    "            'Validation Predictions', \n",
    "            'Validation Observations',\n",
    "            'Testing Predictions', \n",
    "            'Testing Observations'])"
   ]
  },
  {
   "cell_type": "code",
   "execution_count": 19,
   "metadata": {
    "colab": {
     "base_uri": "https://localhost:8080/"
    },
    "executionInfo": {
     "elapsed": 4338,
     "status": "ok",
     "timestamp": 1679739312312,
     "user": {
      "displayName": "Sanjay Veeraragavulu",
      "userId": "09297159159747095837"
     },
     "user_tz": -330
    },
    "id": "SG6S2mZCQMow",
    "outputId": "71c14049-f6e9-4b43-d985-257bd2d5b6b3"
   },
   "outputs": [
    {
     "name": "stdout",
     "output_type": "stream",
     "text": [
      "1/1 [==============================] - 0s 33ms/step\n",
      "1/1 [==============================] - 0s 33ms/step\n",
      "1/1 [==============================] - 0s 34ms/step\n",
      "1/1 [==============================] - 0s 34ms/step\n",
      "1/1 [==============================] - 0s 34ms/step\n",
      "1/1 [==============================] - 0s 36ms/step\n",
      "1/1 [==============================] - 0s 34ms/step\n",
      "1/1 [==============================] - 0s 39ms/step\n",
      "1/1 [==============================] - 0s 35ms/step\n",
      "1/1 [==============================] - 0s 32ms/step\n",
      "1/1 [==============================] - 0s 27ms/step\n",
      "1/1 [==============================] - 0s 26ms/step\n",
      "1/1 [==============================] - 0s 27ms/step\n",
      "1/1 [==============================] - 0s 24ms/step\n",
      "1/1 [==============================] - 0s 22ms/step\n",
      "1/1 [==============================] - 0s 26ms/step\n",
      "1/1 [==============================] - 0s 24ms/step\n",
      "1/1 [==============================] - 0s 23ms/step\n",
      "1/1 [==============================] - 0s 22ms/step\n",
      "1/1 [==============================] - 0s 24ms/step\n",
      "1/1 [==============================] - 0s 32ms/step\n",
      "1/1 [==============================] - 0s 24ms/step\n",
      "1/1 [==============================] - 0s 23ms/step\n",
      "1/1 [==============================] - 0s 22ms/step\n",
      "1/1 [==============================] - 0s 22ms/step\n",
      "1/1 [==============================] - 0s 27ms/step\n",
      "1/1 [==============================] - 0s 23ms/step\n",
      "1/1 [==============================] - 0s 26ms/step\n",
      "1/1 [==============================] - 0s 24ms/step\n",
      "1/1 [==============================] - 0s 23ms/step\n",
      "1/1 [==============================] - 0s 27ms/step\n",
      "1/1 [==============================] - 0s 24ms/step\n",
      "1/1 [==============================] - 0s 25ms/step\n",
      "1/1 [==============================] - 0s 24ms/step\n",
      "1/1 [==============================] - 0s 24ms/step\n",
      "1/1 [==============================] - 0s 25ms/step\n",
      "1/1 [==============================] - 0s 26ms/step\n",
      "1/1 [==============================] - 0s 23ms/step\n",
      "1/1 [==============================] - 0s 25ms/step\n",
      "1/1 [==============================] - 0s 25ms/step\n",
      "1/1 [==============================] - 0s 25ms/step\n",
      "1/1 [==============================] - 0s 25ms/step\n",
      "1/1 [==============================] - 0s 24ms/step\n",
      "1/1 [==============================] - 0s 22ms/step\n",
      "1/1 [==============================] - 0s 22ms/step\n",
      "1/1 [==============================] - 0s 25ms/step\n",
      "1/1 [==============================] - 0s 23ms/step\n",
      "1/1 [==============================] - 0s 25ms/step\n",
      "1/1 [==============================] - 0s 25ms/step\n",
      "1/1 [==============================] - 0s 23ms/step\n",
      "1/1 [==============================] - 0s 23ms/step\n"
     ]
    }
   ],
   "source": [
    "from copy import deepcopy\n",
    "\n",
    "recursive_predictions = []\n",
    "recursive_dates = np.concatenate([dates_val, dates_test])\n",
    "\n",
    "for target_date in recursive_dates:\n",
    "  last_window = deepcopy(X_train[-1])\n",
    "  next_prediction = model.predict(np.array([last_window])).flatten()\n",
    "  recursive_predictions.append(next_prediction)\n",
    "  last_window[-1] = next_prediction"
   ]
  },
  {
   "cell_type": "code",
   "execution_count": 20,
   "metadata": {
    "colab": {
     "base_uri": "https://localhost:8080/",
     "height": 282
    },
    "executionInfo": {
     "elapsed": 1386,
     "status": "ok",
     "timestamp": 1679739334817,
     "user": {
      "displayName": "Sanjay Veeraragavulu",
      "userId": "09297159159747095837"
     },
     "user_tz": -330
    },
    "id": "Mdx8Mh_QQMox",
    "outputId": "c10fd21f-a9cc-4c2a-98a3-6992e93c1087"
   },
   "outputs": [
    {
     "data": {
      "text/plain": [
       "<matplotlib.legend.Legend at 0x7f977d71a640>"
      ]
     },
     "execution_count": 20,
     "metadata": {},
     "output_type": "execute_result"
    },
    {
     "data": {
      "image/png": "[encoded data removed]",
      "text/plain": [
       "<Figure size 432x288 with 1 Axes>"
      ]
     },
     "metadata": {
      "needs_background": "light"
     },
     "output_type": "display_data"
    }
   ],
   "source": [
    "plt.plot(dates_train, train_predictions)\n",
    "plt.plot(dates_train, y_train)\n",
    "plt.plot(dates_val, val_predictions)\n",
    "plt.plot(dates_val, y_val)\n",
    "plt.plot(dates_test, test_predictions)\n",
    "plt.plot(dates_test, y_test)\n",
    "plt.plot(recursive_dates, recursive_predictions)\n",
    "plt.legend(['Training Predictions', \n",
    "            'Training Observations',\n",
    "            'Validation Predictions', \n",
    "            'Validation Observations',\n",
    "            'Testing Predictions', \n",
    "            'Testing Observations',\n",
    "            'Recursive Predictions'])"
   ]
  },
  {
   "cell_type": "code",
   "execution_count": null,
   "metadata": {
    "id": "swYpJFG_Q-cz"
   },
   "outputs": [],
   "source": []
  },
  {
   "cell_type": "code",
   "execution_count": null,
   "metadata": {
    "id": "w_o6bAyUQ-P9"
   },
   "outputs": [],
   "source": []
  }
 ],
 "metadata": {
  "colab": {
   "provenance": []
  },
  "kernelspec": {
   "display_name": "Python 3 (ipykernel)",
   "language": "python",
   "name": "python3"
  },
  "language_info": {
   "codemirror_mode": {
    "name": "ipython",
    "version": 3
   },
   "file_extension": ".py",
   "mimetype": "text/x-python",
   "name": "python",
   "nbconvert_exporter": "python",
   "pygments_lexer": "ipython3",
   "version": "3.9.7"
  }
 },
 "nbformat": 4,
 "nbformat_minor": 0
}